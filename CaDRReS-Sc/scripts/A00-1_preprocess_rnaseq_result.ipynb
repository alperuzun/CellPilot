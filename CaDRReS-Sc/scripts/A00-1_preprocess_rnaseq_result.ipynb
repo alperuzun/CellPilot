{
 "cells": [
  {
   "cell_type": "markdown",
   "metadata": {},
   "source": [
    "# Preprocess read count\n",
    "\n",
    "This is only for our data. For other datasets see ```A01_get_scrnaseq_tpm.ipynb```"
   ]
  },
  {
   "cell_type": "code",
   "execution_count": 1,
   "metadata": {
    "ExecuteTime": {
     "end_time": "2020-10-13T13:10:59.882812Z",
     "start_time": "2020-10-13T13:10:59.159984Z"
    }
   },
   "outputs": [],
   "source": [
    "import os, pickle, re, glob, time\n",
    "import pandas as pd\n",
    "import numpy as np\n",
    "np.set_printoptions(precision=2)\n",
    "\n",
    "import matplotlib.pyplot as plt\n",
    "import matplotlib.patches as patches\n",
    "import seaborn as sns\n",
    "from scipy import stats\n",
    "from collections import Counter\n",
    "\n",
    "sns.set_style('ticks')\n",
    "pd.set_option('precision', 2)\n",
    "\n",
    "%matplotlib inline\n",
    "import warnings\n",
    "warnings.filterwarnings('ignore')"
   ]
  },
  {
   "cell_type": "markdown",
   "metadata": {},
   "source": [
    "### Cell line info"
   ]
  },
  {
   "cell_type": "code",
   "execution_count": 2,
   "metadata": {
    "ExecuteTime": {
     "end_time": "2020-10-13T13:11:00.338646Z",
     "start_time": "2020-10-13T13:11:00.313409Z"
    }
   },
   "outputs": [
    {
     "name": "stdout",
     "output_type": "stream",
     "text": [
      "1247\n"
     ]
    }
   ],
   "source": [
    "cell_info_df = pd.read_csv('../data/HN_patient_specific/cellInfo.csv', index_col=0)\n",
    "cell_info_df.loc[:, 'batch'] = [c[0:3] for c in cell_info_df.index]\n",
    "\n",
    "cell_list = sorted(cell_info_df.index)\n",
    "print (len(cell_list))"
   ]
  },
  {
   "cell_type": "code",
   "execution_count": 3,
   "metadata": {
    "ExecuteTime": {
     "end_time": "2020-10-13T13:11:00.934992Z",
     "start_time": "2020-10-13T13:11:00.923059Z"
    }
   },
   "outputs": [
    {
     "data": {
      "text/plain": [
       "['RHO341', 'RHO349', 'RHO533', 'RHO566', 'RHO606', 'RHO614']"
      ]
     },
     "execution_count": 3,
     "metadata": {},
     "output_type": "execute_result"
    }
   ],
   "source": [
    "# old files [TO BE REMOVED]\n",
    "cell_info_df2 = pd.read_csv('../data/HN_patient_specific/old_norm_cluster_results/cellInfo2.csv', index_col=0)\n",
    "old_sel_cell_list = cell_info_df2.index\n",
    "\n",
    "old_removed_cell_list = [c for c in cell_list if c not in old_sel_cell_list]\n",
    "old_removed_cell_list"
   ]
  },
  {
   "cell_type": "markdown",
   "metadata": {},
   "source": [
    "### Count\n",
    "\n",
    "Only RHO* we have everything. For previous batches, we only have count, tpm, fpkm."
   ]
  },
  {
   "cell_type": "code",
   "execution_count": 4,
   "metadata": {
    "ExecuteTime": {
     "end_time": "2020-10-13T13:11:10.680676Z",
     "start_time": "2020-10-13T13:11:02.408973Z"
    }
   },
   "outputs": [],
   "source": [
    "count_df = pd.read_csv('../data/HN_patient_specific/star_rsem_output/HN120-182/countdata.csv', index_col=0)\n",
    "count_df = count_df.set_index('mat57[, 1]')\n",
    "count_df.index.name = ''"
   ]
  },
  {
   "cell_type": "code",
   "execution_count": 5,
   "metadata": {
    "ExecuteTime": {
     "end_time": "2020-10-13T13:11:10.718425Z",
     "start_time": "2020-10-13T13:11:10.682852Z"
    }
   },
   "outputs": [
    {
     "name": "stdout",
     "output_type": "stream",
     "text": [
      "(54999, 1247)\n"
     ]
    },
    {
     "data": {
      "text/html": [
       "<div>\n",
       "<style scoped>\n",
       "    .dataframe tbody tr th:only-of-type {\n",
       "        vertical-align: middle;\n",
       "    }\n",
       "\n",
       "    .dataframe tbody tr th {\n",
       "        vertical-align: top;\n",
       "    }\n",
       "\n",
       "    .dataframe thead th {\n",
       "        text-align: right;\n",
       "    }\n",
       "</style>\n",
       "<table border=\"1\" class=\"dataframe\">\n",
       "  <thead>\n",
       "    <tr style=\"text-align: right;\">\n",
       "      <th></th>\n",
       "      <th>RHH2176</th>\n",
       "      <th>RHH2177</th>\n",
       "      <th>RHH2178</th>\n",
       "      <th>RHH2179</th>\n",
       "      <th>RHH2180</th>\n",
       "      <th>RHH2181</th>\n",
       "      <th>RHH2182</th>\n",
       "      <th>RHH2183</th>\n",
       "      <th>RHH2184</th>\n",
       "      <th>RHH2185</th>\n",
       "      <th>...</th>\n",
       "      <th>RHO708</th>\n",
       "      <th>RHO709</th>\n",
       "      <th>RHO710</th>\n",
       "      <th>RHO711</th>\n",
       "      <th>RHO712</th>\n",
       "      <th>RHO713</th>\n",
       "      <th>RHO714</th>\n",
       "      <th>RHO715</th>\n",
       "      <th>RHO716</th>\n",
       "      <th>RHO717</th>\n",
       "    </tr>\n",
       "    <tr>\n",
       "      <th></th>\n",
       "      <th></th>\n",
       "      <th></th>\n",
       "      <th></th>\n",
       "      <th></th>\n",
       "      <th></th>\n",
       "      <th></th>\n",
       "      <th></th>\n",
       "      <th></th>\n",
       "      <th></th>\n",
       "      <th></th>\n",
       "      <th></th>\n",
       "      <th></th>\n",
       "      <th></th>\n",
       "      <th></th>\n",
       "      <th></th>\n",
       "      <th></th>\n",
       "      <th></th>\n",
       "      <th></th>\n",
       "      <th></th>\n",
       "      <th></th>\n",
       "      <th></th>\n",
       "    </tr>\n",
       "  </thead>\n",
       "  <tbody>\n",
       "    <tr>\n",
       "      <th>TSPAN6</th>\n",
       "      <td>2.0</td>\n",
       "      <td>7.0</td>\n",
       "      <td>132.0</td>\n",
       "      <td>58.0</td>\n",
       "      <td>11.0</td>\n",
       "      <td>115.0</td>\n",
       "      <td>2.0</td>\n",
       "      <td>13.0</td>\n",
       "      <td>27.0</td>\n",
       "      <td>1.0</td>\n",
       "      <td>...</td>\n",
       "      <td>295.0</td>\n",
       "      <td>116.0</td>\n",
       "      <td>0.0</td>\n",
       "      <td>121.0</td>\n",
       "      <td>38.0</td>\n",
       "      <td>116.0</td>\n",
       "      <td>234.0</td>\n",
       "      <td>227.0</td>\n",
       "      <td>17.0</td>\n",
       "      <td>71.0</td>\n",
       "    </tr>\n",
       "    <tr>\n",
       "      <th>TNMD</th>\n",
       "      <td>0.0</td>\n",
       "      <td>0.0</td>\n",
       "      <td>0.0</td>\n",
       "      <td>0.0</td>\n",
       "      <td>0.0</td>\n",
       "      <td>0.0</td>\n",
       "      <td>0.0</td>\n",
       "      <td>0.0</td>\n",
       "      <td>0.0</td>\n",
       "      <td>0.0</td>\n",
       "      <td>...</td>\n",
       "      <td>0.0</td>\n",
       "      <td>0.0</td>\n",
       "      <td>0.0</td>\n",
       "      <td>0.0</td>\n",
       "      <td>0.0</td>\n",
       "      <td>0.0</td>\n",
       "      <td>0.0</td>\n",
       "      <td>0.0</td>\n",
       "      <td>0.0</td>\n",
       "      <td>0.0</td>\n",
       "    </tr>\n",
       "    <tr>\n",
       "      <th>DPM1</th>\n",
       "      <td>0.0</td>\n",
       "      <td>1.0</td>\n",
       "      <td>50.0</td>\n",
       "      <td>24.0</td>\n",
       "      <td>24.0</td>\n",
       "      <td>40.0</td>\n",
       "      <td>3.0</td>\n",
       "      <td>3.0</td>\n",
       "      <td>4.0</td>\n",
       "      <td>1.0</td>\n",
       "      <td>...</td>\n",
       "      <td>341.0</td>\n",
       "      <td>11.0</td>\n",
       "      <td>0.0</td>\n",
       "      <td>23.0</td>\n",
       "      <td>16.0</td>\n",
       "      <td>189.0</td>\n",
       "      <td>291.0</td>\n",
       "      <td>121.0</td>\n",
       "      <td>20.0</td>\n",
       "      <td>26.0</td>\n",
       "    </tr>\n",
       "    <tr>\n",
       "      <th>SCYL3</th>\n",
       "      <td>0.0</td>\n",
       "      <td>0.0</td>\n",
       "      <td>36.0</td>\n",
       "      <td>4.0</td>\n",
       "      <td>0.0</td>\n",
       "      <td>0.0</td>\n",
       "      <td>0.0</td>\n",
       "      <td>0.0</td>\n",
       "      <td>0.0</td>\n",
       "      <td>0.0</td>\n",
       "      <td>...</td>\n",
       "      <td>25.0</td>\n",
       "      <td>4.0</td>\n",
       "      <td>0.0</td>\n",
       "      <td>20.0</td>\n",
       "      <td>0.0</td>\n",
       "      <td>0.0</td>\n",
       "      <td>0.0</td>\n",
       "      <td>2.0</td>\n",
       "      <td>0.0</td>\n",
       "      <td>6.0</td>\n",
       "    </tr>\n",
       "    <tr>\n",
       "      <th>C1orf112</th>\n",
       "      <td>0.0</td>\n",
       "      <td>0.0</td>\n",
       "      <td>0.0</td>\n",
       "      <td>4.0</td>\n",
       "      <td>2.0</td>\n",
       "      <td>0.0</td>\n",
       "      <td>9.0</td>\n",
       "      <td>0.0</td>\n",
       "      <td>0.0</td>\n",
       "      <td>0.0</td>\n",
       "      <td>...</td>\n",
       "      <td>10.0</td>\n",
       "      <td>0.0</td>\n",
       "      <td>0.0</td>\n",
       "      <td>1.0</td>\n",
       "      <td>0.0</td>\n",
       "      <td>3.0</td>\n",
       "      <td>1.0</td>\n",
       "      <td>38.0</td>\n",
       "      <td>5.0</td>\n",
       "      <td>0.0</td>\n",
       "    </tr>\n",
       "  </tbody>\n",
       "</table>\n",
       "<p>5 rows × 1247 columns</p>\n",
       "</div>"
      ],
      "text/plain": [
       "          RHH2176  RHH2177  RHH2178  RHH2179  RHH2180  RHH2181  RHH2182  \\\n",
       "                                                                          \n",
       "TSPAN6        2.0      7.0    132.0     58.0     11.0    115.0      2.0   \n",
       "TNMD          0.0      0.0      0.0      0.0      0.0      0.0      0.0   \n",
       "DPM1          0.0      1.0     50.0     24.0     24.0     40.0      3.0   \n",
       "SCYL3         0.0      0.0     36.0      4.0      0.0      0.0      0.0   \n",
       "C1orf112      0.0      0.0      0.0      4.0      2.0      0.0      9.0   \n",
       "\n",
       "          RHH2183  RHH2184  RHH2185  ...  RHO708  RHO709  RHO710  RHO711  \\\n",
       "                                     ...                                   \n",
       "TSPAN6       13.0     27.0      1.0  ...   295.0   116.0     0.0   121.0   \n",
       "TNMD          0.0      0.0      0.0  ...     0.0     0.0     0.0     0.0   \n",
       "DPM1          3.0      4.0      1.0  ...   341.0    11.0     0.0    23.0   \n",
       "SCYL3         0.0      0.0      0.0  ...    25.0     4.0     0.0    20.0   \n",
       "C1orf112      0.0      0.0      0.0  ...    10.0     0.0     0.0     1.0   \n",
       "\n",
       "          RHO712  RHO713  RHO714  RHO715  RHO716  RHO717  \n",
       "                                                          \n",
       "TSPAN6      38.0   116.0   234.0   227.0    17.0    71.0  \n",
       "TNMD         0.0     0.0     0.0     0.0     0.0     0.0  \n",
       "DPM1        16.0   189.0   291.0   121.0    20.0    26.0  \n",
       "SCYL3        0.0     0.0     0.0     2.0     0.0     6.0  \n",
       "C1orf112     0.0     3.0     1.0    38.0     5.0     0.0  \n",
       "\n",
       "[5 rows x 1247 columns]"
      ]
     },
     "execution_count": 5,
     "metadata": {},
     "output_type": "execute_result"
    }
   ],
   "source": [
    "print (count_df.shape)\n",
    "count_df.head()"
   ]
  },
  {
   "cell_type": "markdown",
   "metadata": {},
   "source": [
    "##### There are many unmapped reads in few samples"
   ]
  },
  {
   "cell_type": "code",
   "execution_count": 6,
   "metadata": {
    "ExecuteTime": {
     "end_time": "2020-10-13T13:11:11.098611Z",
     "start_time": "2020-10-13T13:11:10.720508Z"
    },
    "code_folding": []
   },
   "outputs": [],
   "source": [
    "sample_output_df1 = pd.read_csv('../data/HN_patient_specific/star_rsem_output/RHO238/star/RHO238_hg19_ReadsPerGene.out.tab.desc', sep='\\t', index_col=0)\n",
    "\n",
    "sample_output_df2 = pd.read_csv('../data/HN_patient_specific/star_rsem_output/RHO238/rsem/RHO238_hg19_RSEM.genes.results', sep='\\t', index_col=0)"
   ]
  },
  {
   "cell_type": "code",
   "execution_count": 7,
   "metadata": {
    "ExecuteTime": {
     "end_time": "2020-10-13T13:11:13.316100Z",
     "start_time": "2020-10-13T13:11:13.313648Z"
    }
   },
   "outputs": [],
   "source": [
    "# sample_output_df1.loc[sample_output_df1.index.str.contains('ENSG')].sum()"
   ]
  },
  {
   "cell_type": "code",
   "execution_count": 8,
   "metadata": {
    "ExecuteTime": {
     "end_time": "2020-10-13T13:11:13.536402Z",
     "start_time": "2020-10-13T13:11:13.534069Z"
    }
   },
   "outputs": [],
   "source": [
    "# sample_output_df1.tail()"
   ]
  },
  {
   "cell_type": "markdown",
   "metadata": {},
   "source": [
    "### TPM"
   ]
  },
  {
   "cell_type": "code",
   "execution_count": 9,
   "metadata": {
    "ExecuteTime": {
     "end_time": "2020-10-13T13:11:20.998123Z",
     "start_time": "2020-10-13T13:11:16.316705Z"
    }
   },
   "outputs": [],
   "source": [
    "tpm_df = pd.read_csv('../data/HN_patient_specific/star_rsem_output/HN120-182/tpm.csv', index_col=0)"
   ]
  },
  {
   "cell_type": "code",
   "execution_count": 10,
   "metadata": {
    "ExecuteTime": {
     "end_time": "2020-10-13T13:11:21.022715Z",
     "start_time": "2020-10-13T13:11:21.000090Z"
    }
   },
   "outputs": [
    {
     "name": "stdout",
     "output_type": "stream",
     "text": [
      "(57268, 768)\n"
     ]
    },
    {
     "data": {
      "text/html": [
       "<div>\n",
       "<style scoped>\n",
       "    .dataframe tbody tr th:only-of-type {\n",
       "        vertical-align: middle;\n",
       "    }\n",
       "\n",
       "    .dataframe tbody tr th {\n",
       "        vertical-align: top;\n",
       "    }\n",
       "\n",
       "    .dataframe thead th {\n",
       "        text-align: right;\n",
       "    }\n",
       "</style>\n",
       "<table border=\"1\" class=\"dataframe\">\n",
       "  <thead>\n",
       "    <tr style=\"text-align: right;\">\n",
       "      <th></th>\n",
       "      <th>RHH2176</th>\n",
       "      <th>RHH2177</th>\n",
       "      <th>RHH2178</th>\n",
       "      <th>RHH2179</th>\n",
       "      <th>RHH2180</th>\n",
       "      <th>RHH2181</th>\n",
       "      <th>RHH2182</th>\n",
       "      <th>RHH2183</th>\n",
       "      <th>RHH2184</th>\n",
       "      <th>RHH2185</th>\n",
       "      <th>...</th>\n",
       "      <th>RHC6644</th>\n",
       "      <th>RHC6645</th>\n",
       "      <th>RHC6646</th>\n",
       "      <th>RHC6647</th>\n",
       "      <th>RHC6648</th>\n",
       "      <th>RHC6649</th>\n",
       "      <th>RHC6650</th>\n",
       "      <th>RHC6651</th>\n",
       "      <th>RHC6652</th>\n",
       "      <th>RHC6653</th>\n",
       "    </tr>\n",
       "  </thead>\n",
       "  <tbody>\n",
       "    <tr>\n",
       "      <th>1</th>\n",
       "      <td>49.14</td>\n",
       "      <td>48.85</td>\n",
       "      <td>131.23</td>\n",
       "      <td>178.24</td>\n",
       "      <td>23.44</td>\n",
       "      <td>153.69</td>\n",
       "      <td>9.38</td>\n",
       "      <td>96.24</td>\n",
       "      <td>81.05</td>\n",
       "      <td>10.09</td>\n",
       "      <td>...</td>\n",
       "      <td>0.99</td>\n",
       "      <td>76.64</td>\n",
       "      <td>22.62</td>\n",
       "      <td>67.69</td>\n",
       "      <td>28.06</td>\n",
       "      <td>137.69</td>\n",
       "      <td>42.52</td>\n",
       "      <td>41.95</td>\n",
       "      <td>108.81</td>\n",
       "      <td>265.52</td>\n",
       "    </tr>\n",
       "    <tr>\n",
       "      <th>2</th>\n",
       "      <td>0.00</td>\n",
       "      <td>0.00</td>\n",
       "      <td>0.00</td>\n",
       "      <td>0.00</td>\n",
       "      <td>0.00</td>\n",
       "      <td>0.00</td>\n",
       "      <td>0.00</td>\n",
       "      <td>0.00</td>\n",
       "      <td>0.00</td>\n",
       "      <td>0.00</td>\n",
       "      <td>...</td>\n",
       "      <td>0.00</td>\n",
       "      <td>0.00</td>\n",
       "      <td>0.00</td>\n",
       "      <td>0.00</td>\n",
       "      <td>0.00</td>\n",
       "      <td>0.00</td>\n",
       "      <td>0.00</td>\n",
       "      <td>0.00</td>\n",
       "      <td>0.00</td>\n",
       "      <td>0.00</td>\n",
       "    </tr>\n",
       "    <tr>\n",
       "      <th>3</th>\n",
       "      <td>0.00</td>\n",
       "      <td>25.66</td>\n",
       "      <td>123.04</td>\n",
       "      <td>159.22</td>\n",
       "      <td>110.39</td>\n",
       "      <td>115.40</td>\n",
       "      <td>51.75</td>\n",
       "      <td>47.94</td>\n",
       "      <td>25.92</td>\n",
       "      <td>12.69</td>\n",
       "      <td>...</td>\n",
       "      <td>0.73</td>\n",
       "      <td>76.17</td>\n",
       "      <td>83.42</td>\n",
       "      <td>90.52</td>\n",
       "      <td>164.33</td>\n",
       "      <td>13.15</td>\n",
       "      <td>138.98</td>\n",
       "      <td>24.68</td>\n",
       "      <td>117.45</td>\n",
       "      <td>0.00</td>\n",
       "    </tr>\n",
       "    <tr>\n",
       "      <th>4</th>\n",
       "      <td>0.00</td>\n",
       "      <td>0.00</td>\n",
       "      <td>26.77</td>\n",
       "      <td>4.13</td>\n",
       "      <td>0.00</td>\n",
       "      <td>0.00</td>\n",
       "      <td>0.00</td>\n",
       "      <td>0.00</td>\n",
       "      <td>0.00</td>\n",
       "      <td>0.00</td>\n",
       "      <td>...</td>\n",
       "      <td>0.00</td>\n",
       "      <td>0.00</td>\n",
       "      <td>0.00</td>\n",
       "      <td>0.00</td>\n",
       "      <td>4.57</td>\n",
       "      <td>0.67</td>\n",
       "      <td>0.32</td>\n",
       "      <td>1.27</td>\n",
       "      <td>4.79</td>\n",
       "      <td>0.00</td>\n",
       "    </tr>\n",
       "    <tr>\n",
       "      <th>5</th>\n",
       "      <td>0.00</td>\n",
       "      <td>0.00</td>\n",
       "      <td>0.00</td>\n",
       "      <td>29.61</td>\n",
       "      <td>2.47</td>\n",
       "      <td>0.00</td>\n",
       "      <td>24.26</td>\n",
       "      <td>0.00</td>\n",
       "      <td>0.00</td>\n",
       "      <td>0.00</td>\n",
       "      <td>...</td>\n",
       "      <td>0.00</td>\n",
       "      <td>2.41</td>\n",
       "      <td>13.14</td>\n",
       "      <td>29.39</td>\n",
       "      <td>47.68</td>\n",
       "      <td>0.00</td>\n",
       "      <td>61.45</td>\n",
       "      <td>3.65</td>\n",
       "      <td>10.68</td>\n",
       "      <td>0.00</td>\n",
       "    </tr>\n",
       "  </tbody>\n",
       "</table>\n",
       "<p>5 rows × 768 columns</p>\n",
       "</div>"
      ],
      "text/plain": [
       "   RHH2176  RHH2177  RHH2178  RHH2179  RHH2180  RHH2181  RHH2182  RHH2183  \\\n",
       "1    49.14    48.85   131.23   178.24    23.44   153.69     9.38    96.24   \n",
       "2     0.00     0.00     0.00     0.00     0.00     0.00     0.00     0.00   \n",
       "3     0.00    25.66   123.04   159.22   110.39   115.40    51.75    47.94   \n",
       "4     0.00     0.00    26.77     4.13     0.00     0.00     0.00     0.00   \n",
       "5     0.00     0.00     0.00    29.61     2.47     0.00    24.26     0.00   \n",
       "\n",
       "   RHH2184  RHH2185  ...  RHC6644  RHC6645  RHC6646  RHC6647  RHC6648  \\\n",
       "1    81.05    10.09  ...     0.99    76.64    22.62    67.69    28.06   \n",
       "2     0.00     0.00  ...     0.00     0.00     0.00     0.00     0.00   \n",
       "3    25.92    12.69  ...     0.73    76.17    83.42    90.52   164.33   \n",
       "4     0.00     0.00  ...     0.00     0.00     0.00     0.00     4.57   \n",
       "5     0.00     0.00  ...     0.00     2.41    13.14    29.39    47.68   \n",
       "\n",
       "   RHC6649  RHC6650  RHC6651  RHC6652  RHC6653  \n",
       "1   137.69    42.52    41.95   108.81   265.52  \n",
       "2     0.00     0.00     0.00     0.00     0.00  \n",
       "3    13.15   138.98    24.68   117.45     0.00  \n",
       "4     0.67     0.32     1.27     4.79     0.00  \n",
       "5     0.00    61.45     3.65    10.68     0.00  \n",
       "\n",
       "[5 rows x 768 columns]"
      ]
     },
     "execution_count": 10,
     "metadata": {},
     "output_type": "execute_result"
    }
   ],
   "source": [
    "print (tpm_df.shape)\n",
    "tpm_df.head()"
   ]
  },
  {
   "cell_type": "code",
   "execution_count": 11,
   "metadata": {
    "ExecuteTime": {
     "end_time": "2020-10-13T13:11:21.410668Z",
     "start_time": "2020-10-13T13:11:21.025251Z"
    }
   },
   "outputs": [
    {
     "data": {
      "text/plain": [
       "RHH2176    1.00e+06\n",
       "RHH2177    1.00e+06\n",
       "RHH2178    1.00e+06\n",
       "RHH2179    1.00e+06\n",
       "RHH2180    1.00e+06\n",
       "dtype: float64"
      ]
     },
     "execution_count": 11,
     "metadata": {},
     "output_type": "execute_result"
    }
   ],
   "source": [
    "tpm_df.sum().head()"
   ]
  },
  {
   "cell_type": "code",
   "execution_count": 12,
   "metadata": {
    "ExecuteTime": {
     "end_time": "2020-10-13T13:11:22.093973Z",
     "start_time": "2020-10-13T13:11:21.413100Z"
    }
   },
   "outputs": [
    {
     "data": {
      "text/html": [
       "<div>\n",
       "<style scoped>\n",
       "    .dataframe tbody tr th:only-of-type {\n",
       "        vertical-align: middle;\n",
       "    }\n",
       "\n",
       "    .dataframe tbody tr th {\n",
       "        vertical-align: top;\n",
       "    }\n",
       "\n",
       "    .dataframe thead th {\n",
       "        text-align: right;\n",
       "    }\n",
       "</style>\n",
       "<table border=\"1\" class=\"dataframe\">\n",
       "  <thead>\n",
       "    <tr style=\"text-align: right;\">\n",
       "      <th></th>\n",
       "      <th>RHH2176</th>\n",
       "      <th>RHH2177</th>\n",
       "      <th>RHH2178</th>\n",
       "      <th>RHH2179</th>\n",
       "      <th>RHH2180</th>\n",
       "      <th>RHH2181</th>\n",
       "      <th>RHH2182</th>\n",
       "      <th>RHH2183</th>\n",
       "      <th>RHH2184</th>\n",
       "      <th>RHH2185</th>\n",
       "      <th>...</th>\n",
       "      <th>RHC6644</th>\n",
       "      <th>RHC6645</th>\n",
       "      <th>RHC6646</th>\n",
       "      <th>RHC6647</th>\n",
       "      <th>RHC6648</th>\n",
       "      <th>RHC6649</th>\n",
       "      <th>RHC6650</th>\n",
       "      <th>RHC6651</th>\n",
       "      <th>RHC6652</th>\n",
       "      <th>RHC6653</th>\n",
       "    </tr>\n",
       "    <tr>\n",
       "      <th>gene_id</th>\n",
       "      <th></th>\n",
       "      <th></th>\n",
       "      <th></th>\n",
       "      <th></th>\n",
       "      <th></th>\n",
       "      <th></th>\n",
       "      <th></th>\n",
       "      <th></th>\n",
       "      <th></th>\n",
       "      <th></th>\n",
       "      <th></th>\n",
       "      <th></th>\n",
       "      <th></th>\n",
       "      <th></th>\n",
       "      <th></th>\n",
       "      <th></th>\n",
       "      <th></th>\n",
       "      <th></th>\n",
       "      <th></th>\n",
       "      <th></th>\n",
       "      <th></th>\n",
       "    </tr>\n",
       "  </thead>\n",
       "  <tbody>\n",
       "    <tr>\n",
       "      <th>ENSG00000000003.10</th>\n",
       "      <td>49.14</td>\n",
       "      <td>48.85</td>\n",
       "      <td>131.23</td>\n",
       "      <td>178.24</td>\n",
       "      <td>23.44</td>\n",
       "      <td>153.69</td>\n",
       "      <td>9.38</td>\n",
       "      <td>96.24</td>\n",
       "      <td>81.05</td>\n",
       "      <td>10.09</td>\n",
       "      <td>...</td>\n",
       "      <td>0.99</td>\n",
       "      <td>76.64</td>\n",
       "      <td>22.62</td>\n",
       "      <td>67.69</td>\n",
       "      <td>28.06</td>\n",
       "      <td>137.69</td>\n",
       "      <td>42.52</td>\n",
       "      <td>41.95</td>\n",
       "      <td>108.81</td>\n",
       "      <td>265.52</td>\n",
       "    </tr>\n",
       "    <tr>\n",
       "      <th>ENSG00000000005.5</th>\n",
       "      <td>0.00</td>\n",
       "      <td>0.00</td>\n",
       "      <td>0.00</td>\n",
       "      <td>0.00</td>\n",
       "      <td>0.00</td>\n",
       "      <td>0.00</td>\n",
       "      <td>0.00</td>\n",
       "      <td>0.00</td>\n",
       "      <td>0.00</td>\n",
       "      <td>0.00</td>\n",
       "      <td>...</td>\n",
       "      <td>0.00</td>\n",
       "      <td>0.00</td>\n",
       "      <td>0.00</td>\n",
       "      <td>0.00</td>\n",
       "      <td>0.00</td>\n",
       "      <td>0.00</td>\n",
       "      <td>0.00</td>\n",
       "      <td>0.00</td>\n",
       "      <td>0.00</td>\n",
       "      <td>0.00</td>\n",
       "    </tr>\n",
       "    <tr>\n",
       "      <th>ENSG00000000419.8</th>\n",
       "      <td>0.00</td>\n",
       "      <td>25.66</td>\n",
       "      <td>123.04</td>\n",
       "      <td>159.22</td>\n",
       "      <td>110.39</td>\n",
       "      <td>115.40</td>\n",
       "      <td>51.75</td>\n",
       "      <td>47.94</td>\n",
       "      <td>25.92</td>\n",
       "      <td>12.69</td>\n",
       "      <td>...</td>\n",
       "      <td>0.73</td>\n",
       "      <td>76.17</td>\n",
       "      <td>83.42</td>\n",
       "      <td>90.52</td>\n",
       "      <td>164.33</td>\n",
       "      <td>13.15</td>\n",
       "      <td>138.98</td>\n",
       "      <td>24.68</td>\n",
       "      <td>117.45</td>\n",
       "      <td>0.00</td>\n",
       "    </tr>\n",
       "    <tr>\n",
       "      <th>ENSG00000000457.9</th>\n",
       "      <td>0.00</td>\n",
       "      <td>0.00</td>\n",
       "      <td>26.77</td>\n",
       "      <td>4.13</td>\n",
       "      <td>0.00</td>\n",
       "      <td>0.00</td>\n",
       "      <td>0.00</td>\n",
       "      <td>0.00</td>\n",
       "      <td>0.00</td>\n",
       "      <td>0.00</td>\n",
       "      <td>...</td>\n",
       "      <td>0.00</td>\n",
       "      <td>0.00</td>\n",
       "      <td>0.00</td>\n",
       "      <td>0.00</td>\n",
       "      <td>4.57</td>\n",
       "      <td>0.67</td>\n",
       "      <td>0.32</td>\n",
       "      <td>1.27</td>\n",
       "      <td>4.79</td>\n",
       "      <td>0.00</td>\n",
       "    </tr>\n",
       "    <tr>\n",
       "      <th>ENSG00000000460.12</th>\n",
       "      <td>0.00</td>\n",
       "      <td>0.00</td>\n",
       "      <td>0.00</td>\n",
       "      <td>29.61</td>\n",
       "      <td>2.47</td>\n",
       "      <td>0.00</td>\n",
       "      <td>24.26</td>\n",
       "      <td>0.00</td>\n",
       "      <td>0.00</td>\n",
       "      <td>0.00</td>\n",
       "      <td>...</td>\n",
       "      <td>0.00</td>\n",
       "      <td>2.41</td>\n",
       "      <td>13.14</td>\n",
       "      <td>29.39</td>\n",
       "      <td>47.68</td>\n",
       "      <td>0.00</td>\n",
       "      <td>61.45</td>\n",
       "      <td>3.65</td>\n",
       "      <td>10.68</td>\n",
       "      <td>0.00</td>\n",
       "    </tr>\n",
       "  </tbody>\n",
       "</table>\n",
       "<p>5 rows × 768 columns</p>\n",
       "</div>"
      ],
      "text/plain": [
       "                    RHH2176  RHH2177  RHH2178  RHH2179  RHH2180  RHH2181  \\\n",
       "gene_id                                                                    \n",
       "ENSG00000000003.10    49.14    48.85   131.23   178.24    23.44   153.69   \n",
       "ENSG00000000005.5      0.00     0.00     0.00     0.00     0.00     0.00   \n",
       "ENSG00000000419.8      0.00    25.66   123.04   159.22   110.39   115.40   \n",
       "ENSG00000000457.9      0.00     0.00    26.77     4.13     0.00     0.00   \n",
       "ENSG00000000460.12     0.00     0.00     0.00    29.61     2.47     0.00   \n",
       "\n",
       "                    RHH2182  RHH2183  RHH2184  RHH2185  ...  RHC6644  RHC6645  \\\n",
       "gene_id                                                 ...                     \n",
       "ENSG00000000003.10     9.38    96.24    81.05    10.09  ...     0.99    76.64   \n",
       "ENSG00000000005.5      0.00     0.00     0.00     0.00  ...     0.00     0.00   \n",
       "ENSG00000000419.8     51.75    47.94    25.92    12.69  ...     0.73    76.17   \n",
       "ENSG00000000457.9      0.00     0.00     0.00     0.00  ...     0.00     0.00   \n",
       "ENSG00000000460.12    24.26     0.00     0.00     0.00  ...     0.00     2.41   \n",
       "\n",
       "                    RHC6646  RHC6647  RHC6648  RHC6649  RHC6650  RHC6651  \\\n",
       "gene_id                                                                    \n",
       "ENSG00000000003.10    22.62    67.69    28.06   137.69    42.52    41.95   \n",
       "ENSG00000000005.5      0.00     0.00     0.00     0.00     0.00     0.00   \n",
       "ENSG00000000419.8     83.42    90.52   164.33    13.15   138.98    24.68   \n",
       "ENSG00000000457.9      0.00     0.00     4.57     0.67     0.32     1.27   \n",
       "ENSG00000000460.12    13.14    29.39    47.68     0.00    61.45     3.65   \n",
       "\n",
       "                    RHC6652  RHC6653  \n",
       "gene_id                               \n",
       "ENSG00000000003.10   108.81   265.52  \n",
       "ENSG00000000005.5      0.00     0.00  \n",
       "ENSG00000000419.8    117.45     0.00  \n",
       "ENSG00000000457.9      4.79     0.00  \n",
       "ENSG00000000460.12    10.68     0.00  \n",
       "\n",
       "[5 rows x 768 columns]"
      ]
     },
     "execution_count": 12,
     "metadata": {},
     "output_type": "execute_result"
    }
   ],
   "source": [
    "gene_df = pd.merge(sample_output_df1[['gene_type', 'gene_name']], sample_output_df2[['transcript_id(s)', 'length', 'effective_length']], left_index=True, right_index=True, how='right')\n",
    "\n",
    "gene_id_name_dict = dict(zip(gene_df.index, gene_df['gene_name']))\n",
    "gene_df.to_csv('../data/HN_patient_specific/gene.csv')\n",
    "\n",
    "tpm_gene_list = gene_df.index\n",
    "tpm_df.index = tpm_gene_list\n",
    "tpm_df.head()"
   ]
  },
  {
   "cell_type": "markdown",
   "metadata": {},
   "source": [
    "##### additional tpm files"
   ]
  },
  {
   "cell_type": "code",
   "execution_count": 13,
   "metadata": {
    "ExecuteTime": {
     "end_time": "2020-10-13T13:11:22.107149Z",
     "start_time": "2020-10-13T13:11:22.095734Z"
    }
   },
   "outputs": [
    {
     "data": {
      "text/plain": [
       "479"
      ]
     },
     "execution_count": 13,
     "metadata": {},
     "output_type": "execute_result"
    }
   ],
   "source": [
    "missing_tmp_cell_list = [c for c in cell_list if c not in tpm_df.columns]\n",
    "len(missing_tmp_cell_list) # all are RHO"
   ]
  },
  {
   "cell_type": "markdown",
   "metadata": {},
   "source": [
    "Converting FPKM to TPM for MUX5757files"
   ]
  },
  {
   "cell_type": "code",
   "execution_count": 14,
   "metadata": {
    "ExecuteTime": {
     "end_time": "2020-10-13T13:11:22.116107Z",
     "start_time": "2020-10-13T13:11:22.110946Z"
    },
    "code_folding": [
     0
    ]
   },
   "outputs": [],
   "source": [
    "##### Check for converting FPKM to TPM\n",
    "\n",
    "# temp_tpm_df = pd.read_csv('../data/HN_patient_specific/star_rsem_output/MUX5761files/MUX5761-TPMmatrix.tsv', index_col=0, sep='\\t')\n",
    "# temp_fpkm_df = pd.read_csv('../data/HN_patient_specific/star_rsem_output/MUX5761files/MUX5761-FPKMmatrix.tsv', index_col=0, sep='\\t')\n",
    "\n",
    "# x = temp_tpm_df.values.flatten()\n",
    "# y = ((temp_fpkm_df / temp_fpkm_df.sum()) * 1000000).values.flatten()\n",
    "# plt.scatter(x, y)"
   ]
  },
  {
   "cell_type": "code",
   "execution_count": 15,
   "metadata": {
    "ExecuteTime": {
     "end_time": "2020-10-13T13:11:30.354068Z",
     "start_time": "2020-10-13T13:11:22.119861Z"
    }
   },
   "outputs": [],
   "source": [
    "temp_fpkm_df = pd.read_csv('../data/HN_patient_specific/star_rsem_output/MUX5757files/MUX5757-FPKMmatrix.tsv', index_col=0, sep='\\t')\n",
    "temp_tpm_df = (temp_fpkm_df / temp_fpkm_df.sum()) * 1000000\n",
    "temp_tpm_df.to_csv('../data/HN_patient_specific/star_rsem_output/MUX5757files/MUX5757-TPMmatrix.tsv', sep='\\t')"
   ]
  },
  {
   "cell_type": "markdown",
   "metadata": {},
   "source": [
    "Read additional files"
   ]
  },
  {
   "cell_type": "code",
   "execution_count": 16,
   "metadata": {
    "ExecuteTime": {
     "end_time": "2020-10-13T13:11:34.048654Z",
     "start_time": "2020-10-13T13:11:30.356743Z"
    }
   },
   "outputs": [],
   "source": [
    "mux_list = ['MUX5757', 'MUX5758', 'MUX5759', 'MUX5760', 'MUX5761']\n",
    "\n",
    "tpm_df_list = []\n",
    "for mux in mux_list:\n",
    "    df = pd.read_csv('../data/HN_patient_specific/star_rsem_output/{}files/{}-TPMmatrix.tsv'.format(mux, mux), index_col=0, sep='\\t')\n",
    "    tpm_df_list += [df]"
   ]
  },
  {
   "cell_type": "code",
   "execution_count": 17,
   "metadata": {
    "ExecuteTime": {
     "end_time": "2020-10-13T13:11:34.177705Z",
     "start_time": "2020-10-13T13:11:34.050394Z"
    }
   },
   "outputs": [
    {
     "data": {
      "text/plain": [
       "(57268, 479)"
      ]
     },
     "execution_count": 17,
     "metadata": {},
     "output_type": "execute_result"
    }
   ],
   "source": [
    "temp_df2 = pd.concat(tpm_df_list, axis=1)\n",
    "temp_df2.index = tpm_gene_list\n",
    "\n",
    "temp_df2.shape"
   ]
  },
  {
   "cell_type": "code",
   "execution_count": 18,
   "metadata": {
    "ExecuteTime": {
     "end_time": "2020-10-13T13:11:34.611608Z",
     "start_time": "2020-10-13T13:11:34.179560Z"
    }
   },
   "outputs": [
    {
     "data": {
      "text/html": [
       "<div>\n",
       "<style scoped>\n",
       "    .dataframe tbody tr th:only-of-type {\n",
       "        vertical-align: middle;\n",
       "    }\n",
       "\n",
       "    .dataframe tbody tr th {\n",
       "        vertical-align: top;\n",
       "    }\n",
       "\n",
       "    .dataframe thead th {\n",
       "        text-align: right;\n",
       "    }\n",
       "</style>\n",
       "<table border=\"1\" class=\"dataframe\">\n",
       "  <thead>\n",
       "    <tr style=\"text-align: right;\">\n",
       "      <th></th>\n",
       "      <th>RHH2176</th>\n",
       "      <th>RHH2177</th>\n",
       "      <th>RHH2178</th>\n",
       "      <th>RHH2179</th>\n",
       "      <th>RHH2180</th>\n",
       "      <th>RHH2181</th>\n",
       "      <th>RHH2182</th>\n",
       "      <th>RHH2183</th>\n",
       "      <th>RHH2184</th>\n",
       "      <th>RHH2185</th>\n",
       "      <th>...</th>\n",
       "      <th>RHO708</th>\n",
       "      <th>RHO709</th>\n",
       "      <th>RHO710</th>\n",
       "      <th>RHO711</th>\n",
       "      <th>RHO712</th>\n",
       "      <th>RHO713</th>\n",
       "      <th>RHO714</th>\n",
       "      <th>RHO715</th>\n",
       "      <th>RHO716</th>\n",
       "      <th>RHO717</th>\n",
       "    </tr>\n",
       "    <tr>\n",
       "      <th>gene_id</th>\n",
       "      <th></th>\n",
       "      <th></th>\n",
       "      <th></th>\n",
       "      <th></th>\n",
       "      <th></th>\n",
       "      <th></th>\n",
       "      <th></th>\n",
       "      <th></th>\n",
       "      <th></th>\n",
       "      <th></th>\n",
       "      <th></th>\n",
       "      <th></th>\n",
       "      <th></th>\n",
       "      <th></th>\n",
       "      <th></th>\n",
       "      <th></th>\n",
       "      <th></th>\n",
       "      <th></th>\n",
       "      <th></th>\n",
       "      <th></th>\n",
       "      <th></th>\n",
       "    </tr>\n",
       "  </thead>\n",
       "  <tbody>\n",
       "    <tr>\n",
       "      <th>ENSG00000000003.10</th>\n",
       "      <td>49.14</td>\n",
       "      <td>48.85</td>\n",
       "      <td>131.23</td>\n",
       "      <td>178.24</td>\n",
       "      <td>23.44</td>\n",
       "      <td>153.69</td>\n",
       "      <td>9.38</td>\n",
       "      <td>96.24</td>\n",
       "      <td>81.05</td>\n",
       "      <td>10.09</td>\n",
       "      <td>...</td>\n",
       "      <td>127.02</td>\n",
       "      <td>121.74</td>\n",
       "      <td>0.0</td>\n",
       "      <td>101.40</td>\n",
       "      <td>27.24</td>\n",
       "      <td>72.80</td>\n",
       "      <td>121.54</td>\n",
       "      <td>131.68</td>\n",
       "      <td>18.73</td>\n",
       "      <td>45.72</td>\n",
       "    </tr>\n",
       "    <tr>\n",
       "      <th>ENSG00000000005.5</th>\n",
       "      <td>0.00</td>\n",
       "      <td>0.00</td>\n",
       "      <td>0.00</td>\n",
       "      <td>0.00</td>\n",
       "      <td>0.00</td>\n",
       "      <td>0.00</td>\n",
       "      <td>0.00</td>\n",
       "      <td>0.00</td>\n",
       "      <td>0.00</td>\n",
       "      <td>0.00</td>\n",
       "      <td>...</td>\n",
       "      <td>0.00</td>\n",
       "      <td>0.00</td>\n",
       "      <td>0.0</td>\n",
       "      <td>0.00</td>\n",
       "      <td>0.00</td>\n",
       "      <td>0.00</td>\n",
       "      <td>0.00</td>\n",
       "      <td>0.00</td>\n",
       "      <td>0.00</td>\n",
       "      <td>0.00</td>\n",
       "    </tr>\n",
       "    <tr>\n",
       "      <th>ENSG00000000419.8</th>\n",
       "      <td>0.00</td>\n",
       "      <td>25.66</td>\n",
       "      <td>123.04</td>\n",
       "      <td>159.22</td>\n",
       "      <td>110.39</td>\n",
       "      <td>115.40</td>\n",
       "      <td>51.75</td>\n",
       "      <td>47.94</td>\n",
       "      <td>25.92</td>\n",
       "      <td>12.69</td>\n",
       "      <td>...</td>\n",
       "      <td>316.68</td>\n",
       "      <td>24.94</td>\n",
       "      <td>0.0</td>\n",
       "      <td>41.63</td>\n",
       "      <td>28.49</td>\n",
       "      <td>247.13</td>\n",
       "      <td>326.69</td>\n",
       "      <td>151.61</td>\n",
       "      <td>27.20</td>\n",
       "      <td>36.17</td>\n",
       "    </tr>\n",
       "    <tr>\n",
       "      <th>ENSG00000000457.9</th>\n",
       "      <td>0.00</td>\n",
       "      <td>0.00</td>\n",
       "      <td>26.77</td>\n",
       "      <td>4.13</td>\n",
       "      <td>0.00</td>\n",
       "      <td>0.00</td>\n",
       "      <td>0.00</td>\n",
       "      <td>0.00</td>\n",
       "      <td>0.00</td>\n",
       "      <td>0.00</td>\n",
       "      <td>...</td>\n",
       "      <td>3.62</td>\n",
       "      <td>1.41</td>\n",
       "      <td>0.0</td>\n",
       "      <td>5.64</td>\n",
       "      <td>0.00</td>\n",
       "      <td>0.00</td>\n",
       "      <td>0.00</td>\n",
       "      <td>0.39</td>\n",
       "      <td>0.00</td>\n",
       "      <td>5.66</td>\n",
       "    </tr>\n",
       "    <tr>\n",
       "      <th>ENSG00000000460.12</th>\n",
       "      <td>0.00</td>\n",
       "      <td>0.00</td>\n",
       "      <td>0.00</td>\n",
       "      <td>29.61</td>\n",
       "      <td>2.47</td>\n",
       "      <td>0.00</td>\n",
       "      <td>24.26</td>\n",
       "      <td>0.00</td>\n",
       "      <td>0.00</td>\n",
       "      <td>0.00</td>\n",
       "      <td>...</td>\n",
       "      <td>2.50</td>\n",
       "      <td>0.00</td>\n",
       "      <td>0.0</td>\n",
       "      <td>0.49</td>\n",
       "      <td>0.00</td>\n",
       "      <td>0.90</td>\n",
       "      <td>1.67</td>\n",
       "      <td>55.43</td>\n",
       "      <td>7.31</td>\n",
       "      <td>0.00</td>\n",
       "    </tr>\n",
       "  </tbody>\n",
       "</table>\n",
       "<p>5 rows × 1247 columns</p>\n",
       "</div>"
      ],
      "text/plain": [
       "                    RHH2176  RHH2177  RHH2178  RHH2179  RHH2180  RHH2181  \\\n",
       "gene_id                                                                    \n",
       "ENSG00000000003.10    49.14    48.85   131.23   178.24    23.44   153.69   \n",
       "ENSG00000000005.5      0.00     0.00     0.00     0.00     0.00     0.00   \n",
       "ENSG00000000419.8      0.00    25.66   123.04   159.22   110.39   115.40   \n",
       "ENSG00000000457.9      0.00     0.00    26.77     4.13     0.00     0.00   \n",
       "ENSG00000000460.12     0.00     0.00     0.00    29.61     2.47     0.00   \n",
       "\n",
       "                    RHH2182  RHH2183  RHH2184  RHH2185  ...  RHO708  RHO709  \\\n",
       "gene_id                                                 ...                   \n",
       "ENSG00000000003.10     9.38    96.24    81.05    10.09  ...  127.02  121.74   \n",
       "ENSG00000000005.5      0.00     0.00     0.00     0.00  ...    0.00    0.00   \n",
       "ENSG00000000419.8     51.75    47.94    25.92    12.69  ...  316.68   24.94   \n",
       "ENSG00000000457.9      0.00     0.00     0.00     0.00  ...    3.62    1.41   \n",
       "ENSG00000000460.12    24.26     0.00     0.00     0.00  ...    2.50    0.00   \n",
       "\n",
       "                    RHO710  RHO711  RHO712  RHO713  RHO714  RHO715  RHO716  \\\n",
       "gene_id                                                                      \n",
       "ENSG00000000003.10     0.0  101.40   27.24   72.80  121.54  131.68   18.73   \n",
       "ENSG00000000005.5      0.0    0.00    0.00    0.00    0.00    0.00    0.00   \n",
       "ENSG00000000419.8      0.0   41.63   28.49  247.13  326.69  151.61   27.20   \n",
       "ENSG00000000457.9      0.0    5.64    0.00    0.00    0.00    0.39    0.00   \n",
       "ENSG00000000460.12     0.0    0.49    0.00    0.90    1.67   55.43    7.31   \n",
       "\n",
       "                    RHO717  \n",
       "gene_id                     \n",
       "ENSG00000000003.10   45.72  \n",
       "ENSG00000000005.5     0.00  \n",
       "ENSG00000000419.8    36.17  \n",
       "ENSG00000000457.9     5.66  \n",
       "ENSG00000000460.12    0.00  \n",
       "\n",
       "[5 rows x 1247 columns]"
      ]
     },
     "execution_count": 18,
     "metadata": {},
     "output_type": "execute_result"
    }
   ],
   "source": [
    "tpm_df = pd.concat([tpm_df, temp_df2], axis=1)\n",
    "tpm_df.head()"
   ]
  },
  {
   "cell_type": "markdown",
   "metadata": {},
   "source": [
    "No duplicates gene"
   ]
  },
  {
   "cell_type": "code",
   "execution_count": 19,
   "metadata": {
    "ExecuteTime": {
     "end_time": "2020-10-13T13:11:34.627072Z",
     "start_time": "2020-10-13T13:11:34.613594Z"
    }
   },
   "outputs": [
    {
     "data": {
      "text/plain": [
       "((57268,), 57268)"
      ]
     },
     "execution_count": 19,
     "metadata": {},
     "output_type": "execute_result"
    }
   ],
   "source": [
    "tpm_df.index.shape, len(set(tpm_df.index))"
   ]
  },
  {
   "cell_type": "markdown",
   "metadata": {},
   "source": [
    "Drop genes with zero count"
   ]
  },
  {
   "cell_type": "code",
   "execution_count": 20,
   "metadata": {
    "ExecuteTime": {
     "end_time": "2020-10-13T13:11:35.850791Z",
     "start_time": "2020-10-13T13:11:34.629340Z"
    }
   },
   "outputs": [
    {
     "data": {
      "text/plain": [
       "((34923, 1247), [])"
      ]
     },
     "execution_count": 20,
     "metadata": {},
     "output_type": "execute_result"
    }
   ],
   "source": [
    "non_zero_gene_list = tpm_df.index[tpm_df.sum(axis=1) > 0]\n",
    "tpm_df = tpm_df.loc[non_zero_gene_list]\n",
    "\n",
    "tpm_df.shape, [c for c in cell_list if c not in tpm_df.columns]"
   ]
  },
  {
   "cell_type": "markdown",
   "metadata": {},
   "source": [
    "##### Plot number of genes per cells"
   ]
  },
  {
   "cell_type": "code",
   "execution_count": 24,
   "metadata": {
    "ExecuteTime": {
     "end_time": "2020-10-13T13:12:34.433473Z",
     "start_time": "2020-10-13T13:12:33.454462Z"
    }
   },
   "outputs": [
    {
     "data": {
      "image/png": "[encoded data removed]",
      "text/plain": [
       "<Figure size 864x360 with 2 Axes>"
      ]
     },
     "metadata": {},
     "output_type": "display_data"
    }
   ],
   "source": [
    "# count number of expressed genes\n",
    "temp_df = pd.DataFrame((tpm_df > 0).sum(), columns=['count'])\n",
    "temp_df = pd.merge(temp_df, cell_info_df[['cell_line_id', 'batch']], left_index=True, right_index=True)\n",
    "temp_df\n",
    "\n",
    "sns.set(font_scale=1.25)\n",
    "sns.set_style(\"ticks\")\n",
    "fig, axes = plt.subplots(ncols=2, figsize=(12, 5))\n",
    "\n",
    "# sns.stripplot(data=temp_df, x='batch', y='count', jitter=0.2, alpha=0.7, ax=axes[0])\n",
    "# sns.boxplot(data=temp_df, x='batch', y='count', fliersize=0, color='white', ax=axes[0])\n",
    "# axes[0].axhline(y=5000, color='grey')\n",
    "# # axes[0].set(yscale=\"log\")\n",
    "\n",
    "sns.stripplot(data=temp_df, x='cell_line_id', y='count', jitter=0.2, alpha=0.5, ax=axes[1], size=3, color='black')\n",
    "sns.boxplot(data=temp_df, x='cell_line_id', y='count', fliersize=0, color='white', ax=axes[1])\n",
    "# axes[1].set(yscale=\"log\")\n",
    "# axes[1].axhline(y=5000, color='grey')\n",
    "axes[1].set_xticklabels(axes[1].get_xticklabels(), rotation=45, ha='right')\n",
    "axes[1].set_ylabel('Number of genes')\n",
    "axes[1].set_xlabel('Cell line ID')\n",
    "\n",
    "plt.tight_layout()\n",
    "plt.savefig('../figure/supplementary_number_genes_per_cell.svg')"
   ]
  },
  {
   "cell_type": "code",
   "execution_count": 25,
   "metadata": {
    "ExecuteTime": {
     "end_time": "2020-10-13T13:12:34.449720Z",
     "start_time": "2020-10-13T13:12:34.437746Z"
    }
   },
   "outputs": [
    {
     "data": {
      "text/html": [
       "<div>\n",
       "<style scoped>\n",
       "    .dataframe tbody tr th:only-of-type {\n",
       "        vertical-align: middle;\n",
       "    }\n",
       "\n",
       "    .dataframe tbody tr th {\n",
       "        vertical-align: top;\n",
       "    }\n",
       "\n",
       "    .dataframe thead th {\n",
       "        text-align: right;\n",
       "    }\n",
       "</style>\n",
       "<table border=\"1\" class=\"dataframe\">\n",
       "  <thead>\n",
       "    <tr style=\"text-align: right;\">\n",
       "      <th></th>\n",
       "      <th>count</th>\n",
       "      <th>cell_line_id</th>\n",
       "      <th>batch</th>\n",
       "    </tr>\n",
       "  </thead>\n",
       "  <tbody>\n",
       "    <tr>\n",
       "      <th>RHH2555</th>\n",
       "      <td>9377</td>\n",
       "      <td>HN148P</td>\n",
       "      <td>RHH</td>\n",
       "    </tr>\n",
       "    <tr>\n",
       "      <th>RHH2484</th>\n",
       "      <td>9386</td>\n",
       "      <td>HN148P</td>\n",
       "      <td>RHH</td>\n",
       "    </tr>\n",
       "    <tr>\n",
       "      <th>RHC6602</th>\n",
       "      <td>9561</td>\n",
       "      <td>HN148M</td>\n",
       "      <td>RHC</td>\n",
       "    </tr>\n",
       "    <tr>\n",
       "      <th>RHH2539</th>\n",
       "      <td>9600</td>\n",
       "      <td>HN148P</td>\n",
       "      <td>RHH</td>\n",
       "    </tr>\n",
       "    <tr>\n",
       "      <th>RHH2226</th>\n",
       "      <td>14558</td>\n",
       "      <td>HN120P</td>\n",
       "      <td>RHH</td>\n",
       "    </tr>\n",
       "  </tbody>\n",
       "</table>\n",
       "</div>"
      ],
      "text/plain": [
       "         count cell_line_id batch\n",
       "RHH2555   9377       HN148P   RHH\n",
       "RHH2484   9386       HN148P   RHH\n",
       "RHC6602   9561       HN148M   RHC\n",
       "RHH2539   9600       HN148P   RHH\n",
       "RHH2226  14558       HN120P   RHH"
      ]
     },
     "execution_count": 25,
     "metadata": {},
     "output_type": "execute_result"
    }
   ],
   "source": [
    "temp_df.sort_values('count').tail()"
   ]
  },
  {
   "cell_type": "code",
   "execution_count": 26,
   "metadata": {
    "ExecuteTime": {
     "end_time": "2020-10-13T13:12:34.693487Z",
     "start_time": "2020-10-13T13:12:34.680354Z"
    }
   },
   "outputs": [
    {
     "data": {
      "text/html": [
       "<div>\n",
       "<style scoped>\n",
       "    .dataframe tbody tr th:only-of-type {\n",
       "        vertical-align: middle;\n",
       "    }\n",
       "\n",
       "    .dataframe tbody tr th {\n",
       "        vertical-align: top;\n",
       "    }\n",
       "\n",
       "    .dataframe thead th {\n",
       "        text-align: right;\n",
       "    }\n",
       "</style>\n",
       "<table border=\"1\" class=\"dataframe\">\n",
       "  <thead>\n",
       "    <tr style=\"text-align: right;\">\n",
       "      <th></th>\n",
       "      <th>count</th>\n",
       "    </tr>\n",
       "  </thead>\n",
       "  <tbody>\n",
       "    <tr>\n",
       "      <th>count</th>\n",
       "      <td>1247.00</td>\n",
       "    </tr>\n",
       "    <tr>\n",
       "      <th>mean</th>\n",
       "      <td>6626.96</td>\n",
       "    </tr>\n",
       "    <tr>\n",
       "      <th>std</th>\n",
       "      <td>2173.22</td>\n",
       "    </tr>\n",
       "    <tr>\n",
       "      <th>min</th>\n",
       "      <td>38.00</td>\n",
       "    </tr>\n",
       "    <tr>\n",
       "      <th>25%</th>\n",
       "      <td>6218.50</td>\n",
       "    </tr>\n",
       "    <tr>\n",
       "      <th>50%</th>\n",
       "      <td>7297.00</td>\n",
       "    </tr>\n",
       "    <tr>\n",
       "      <th>75%</th>\n",
       "      <td>8043.00</td>\n",
       "    </tr>\n",
       "    <tr>\n",
       "      <th>max</th>\n",
       "      <td>14558.00</td>\n",
       "    </tr>\n",
       "  </tbody>\n",
       "</table>\n",
       "</div>"
      ],
      "text/plain": [
       "          count\n",
       "count   1247.00\n",
       "mean    6626.96\n",
       "std     2173.22\n",
       "min       38.00\n",
       "25%     6218.50\n",
       "50%     7297.00\n",
       "75%     8043.00\n",
       "max    14558.00"
      ]
     },
     "execution_count": 26,
     "metadata": {},
     "output_type": "execute_result"
    }
   ],
   "source": [
    "temp_df.describe()"
   ]
  },
  {
   "cell_type": "markdown",
   "metadata": {},
   "source": [
    "##### Plot library size per cells"
   ]
  },
  {
   "cell_type": "code",
   "execution_count": 27,
   "metadata": {
    "ExecuteTime": {
     "end_time": "2020-10-13T13:12:38.722036Z",
     "start_time": "2020-10-13T13:12:36.354056Z"
    }
   },
   "outputs": [
    {
     "data": {
      "image/png": "[encoded data removed]",
      "text/plain": [
       "<Figure size 864x360 with 2 Axes>"
      ]
     },
     "metadata": {},
     "output_type": "display_data"
    }
   ],
   "source": [
    "# calculate library size per cell\n",
    "temp_df = pd.DataFrame(count_df.sum(), columns=['lib_size'])\n",
    "temp_df = pd.merge(temp_df, cell_info_df[['cell_line_id', 'batch']], left_index=True, right_index=True)\n",
    "temp_df\n",
    "\n",
    "sns.set(font_scale=1.25)\n",
    "sns.set_style(\"ticks\")\n",
    "fig, axes = plt.subplots(ncols=2, figsize=(12, 5))\n",
    "\n",
    "# sns.stripplot(data=temp_df, x='batch', y='lib_size', jitter=0.2, alpha=0.7, ax=axes[0])\n",
    "# sns.boxplot(data=temp_df, x='batch', y='lib_size', fliersize=0, color='white', ax=axes[0])\n",
    "# axes[0].axhline(y=10000, color='grey')\n",
    "# axes[0].set(yscale=\"log\")\n",
    "\n",
    "sns.stripplot(data=temp_df, x='cell_line_id', y='lib_size', jitter=0.2, alpha=0.5, ax=axes[1], size=3, color='black')\n",
    "sns.boxplot(data=temp_df, x='cell_line_id', y='lib_size', fliersize=0, color='white', ax=axes[1])\n",
    "axes[1].set(yscale=\"log\")\n",
    "axes[1].axhline(y=10000, color='grey')\n",
    "axes[1].set_xticklabels(axes[1].get_xticklabels(), rotation=45, ha='right')\n",
    "axes[1].set_ylabel('library size (total reads)')\n",
    "axes[1].set_xlabel('Cell line ID')\n",
    "\n",
    "plt.tight_layout()\n",
    "plt.savefig('../figure/supplementary_number_reads_per_cell.svg')"
   ]
  },
  {
   "cell_type": "code",
   "execution_count": 25,
   "metadata": {
    "scrolled": true
   },
   "outputs": [
    {
     "data": {
      "image/png": "[encoded data removed]",
      "text/plain": [
       "<Figure size 432x288 with 1 Axes>"
      ]
     },
     "metadata": {},
     "output_type": "display_data"
    }
   ],
   "source": [
    "x = count_df.sum().values\n",
    "y = (tpm_df > 0).sum().values\n",
    "plt.scatter(np.log10(x), y, s=10, alpha=0.5, color='navy')\n",
    "\n",
    "plt.xlabel('log10(sum read count)')\n",
    "plt.ylabel('number of genes')\n",
    "\n",
    "sns.despine()"
   ]
  },
  {
   "cell_type": "markdown",
   "metadata": {},
   "source": [
    "##### Filter cells\n",
    "\n",
    "- Remove the one with > 10000 genes (possible duplet)\n",
    "- Library size >= 10000"
   ]
  },
  {
   "cell_type": "code",
   "execution_count": 26,
   "metadata": {},
   "outputs": [
    {
     "data": {
      "text/plain": [
       "1171"
      ]
     },
     "execution_count": 26,
     "metadata": {},
     "output_type": "execute_result"
    }
   ],
   "source": [
    "selected_cell_list = tpm_df.columns[((tpm_df > 0).sum() < 10000) & (count_df.sum() >= 10000)]\n",
    "len(selected_cell_list)"
   ]
  },
  {
   "cell_type": "code",
   "execution_count": 27,
   "metadata": {},
   "outputs": [],
   "source": [
    "tpm_df = tpm_df[selected_cell_list]"
   ]
  },
  {
   "cell_type": "code",
   "execution_count": 28,
   "metadata": {},
   "outputs": [
    {
     "data": {
      "text/html": [
       "<div>\n",
       "<style scoped>\n",
       "    .dataframe tbody tr th:only-of-type {\n",
       "        vertical-align: middle;\n",
       "    }\n",
       "\n",
       "    .dataframe tbody tr th {\n",
       "        vertical-align: top;\n",
       "    }\n",
       "\n",
       "    .dataframe thead th {\n",
       "        text-align: right;\n",
       "    }\n",
       "</style>\n",
       "<table border=\"1\" class=\"dataframe\">\n",
       "  <thead>\n",
       "    <tr style=\"text-align: right;\">\n",
       "      <th></th>\n",
       "      <th>patient_id</th>\n",
       "      <th>origin</th>\n",
       "      <th>batch</th>\n",
       "    </tr>\n",
       "    <tr>\n",
       "      <th>cell_line_id</th>\n",
       "      <th></th>\n",
       "      <th></th>\n",
       "      <th></th>\n",
       "    </tr>\n",
       "  </thead>\n",
       "  <tbody>\n",
       "    <tr>\n",
       "      <th>HN120M</th>\n",
       "      <td>94</td>\n",
       "      <td>94</td>\n",
       "      <td>94</td>\n",
       "    </tr>\n",
       "    <tr>\n",
       "      <th>HN120P</th>\n",
       "      <td>94</td>\n",
       "      <td>94</td>\n",
       "      <td>94</td>\n",
       "    </tr>\n",
       "    <tr>\n",
       "      <th>HN137M</th>\n",
       "      <td>86</td>\n",
       "      <td>86</td>\n",
       "      <td>86</td>\n",
       "    </tr>\n",
       "    <tr>\n",
       "      <th>HN137P</th>\n",
       "      <td>95</td>\n",
       "      <td>95</td>\n",
       "      <td>95</td>\n",
       "    </tr>\n",
       "    <tr>\n",
       "      <th>HN137P2</th>\n",
       "      <td>189</td>\n",
       "      <td>189</td>\n",
       "      <td>189</td>\n",
       "    </tr>\n",
       "    <tr>\n",
       "      <th>HN148M</th>\n",
       "      <td>96</td>\n",
       "      <td>96</td>\n",
       "      <td>96</td>\n",
       "    </tr>\n",
       "    <tr>\n",
       "      <th>HN148P</th>\n",
       "      <td>96</td>\n",
       "      <td>96</td>\n",
       "      <td>96</td>\n",
       "    </tr>\n",
       "    <tr>\n",
       "      <th>HN159M</th>\n",
       "      <td>83</td>\n",
       "      <td>83</td>\n",
       "      <td>83</td>\n",
       "    </tr>\n",
       "    <tr>\n",
       "      <th>HN159P</th>\n",
       "      <td>94</td>\n",
       "      <td>94</td>\n",
       "      <td>94</td>\n",
       "    </tr>\n",
       "    <tr>\n",
       "      <th>HN160M</th>\n",
       "      <td>61</td>\n",
       "      <td>61</td>\n",
       "      <td>61</td>\n",
       "    </tr>\n",
       "    <tr>\n",
       "      <th>HN160P</th>\n",
       "      <td>90</td>\n",
       "      <td>90</td>\n",
       "      <td>90</td>\n",
       "    </tr>\n",
       "    <tr>\n",
       "      <th>HN182M</th>\n",
       "      <td>93</td>\n",
       "      <td>93</td>\n",
       "      <td>93</td>\n",
       "    </tr>\n",
       "  </tbody>\n",
       "</table>\n",
       "</div>"
      ],
      "text/plain": [
       "              patient_id  origin  batch\n",
       "cell_line_id                           \n",
       "HN120M                94      94     94\n",
       "HN120P                94      94     94\n",
       "HN137M                86      86     86\n",
       "HN137P                95      95     95\n",
       "HN137P2              189     189    189\n",
       "HN148M                96      96     96\n",
       "HN148P                96      96     96\n",
       "HN159M                83      83     83\n",
       "HN159P                94      94     94\n",
       "HN160M                61      61     61\n",
       "HN160P                90      90     90\n",
       "HN182M                93      93     93"
      ]
     },
     "execution_count": 28,
     "metadata": {},
     "output_type": "execute_result"
    }
   ],
   "source": [
    "cell_info_df.loc[selected_cell_list].groupby('cell_line_id').count()"
   ]
  },
  {
   "cell_type": "code",
   "execution_count": 30,
   "metadata": {},
   "outputs": [],
   "source": [
    "cell_info_df.to_csv('../preprocessed_data/HN_patient_specific/cell_info.csv')"
   ]
  },
  {
   "cell_type": "markdown",
   "metadata": {},
   "source": [
    "##### Filter genes"
   ]
  },
  {
   "cell_type": "code",
   "execution_count": 33,
   "metadata": {},
   "outputs": [
    {
     "data": {
      "text/plain": [
       "58"
      ]
     },
     "execution_count": 33,
     "metadata": {},
     "output_type": "execute_result"
    }
   ],
   "source": [
    "min_n_cells = int(0.05 * tpm_df.shape[1])\n",
    "min_n_cells"
   ]
  },
  {
   "cell_type": "code",
   "execution_count": 34,
   "metadata": {},
   "outputs": [
    {
     "data": {
      "text/plain": [
       "(34923, 1171)"
      ]
     },
     "execution_count": 34,
     "metadata": {},
     "output_type": "execute_result"
    }
   ],
   "source": [
    "tpm_df.shape"
   ]
  },
  {
   "cell_type": "code",
   "execution_count": 35,
   "metadata": {},
   "outputs": [
    {
     "data": {
      "text/plain": [
       "15185"
      ]
     },
     "execution_count": 35,
     "metadata": {},
     "output_type": "execute_result"
    }
   ],
   "source": [
    "selected_gene_list = tpm_df.index[((tpm_df > 0).T.sum() >= min_n_cells)]\n",
    "len(selected_gene_list)"
   ]
  },
  {
   "cell_type": "code",
   "execution_count": 36,
   "metadata": {},
   "outputs": [
    {
     "name": "stdout",
     "output_type": "stream",
     "text": [
      "(15185, 1171)\n"
     ]
    }
   ],
   "source": [
    "tpm_df = tpm_df.loc[selected_gene_list]\n",
    "print (tpm_df.shape)"
   ]
  },
  {
   "cell_type": "code",
   "execution_count": 37,
   "metadata": {
    "scrolled": true
   },
   "outputs": [
    {
     "data": {
      "text/html": [
       "<div>\n",
       "<style scoped>\n",
       "    .dataframe tbody tr th:only-of-type {\n",
       "        vertical-align: middle;\n",
       "    }\n",
       "\n",
       "    .dataframe tbody tr th {\n",
       "        vertical-align: top;\n",
       "    }\n",
       "\n",
       "    .dataframe thead th {\n",
       "        text-align: right;\n",
       "    }\n",
       "</style>\n",
       "<table border=\"1\" class=\"dataframe\">\n",
       "  <thead>\n",
       "    <tr style=\"text-align: right;\">\n",
       "      <th></th>\n",
       "      <th>RHH2176</th>\n",
       "      <th>RHH2177</th>\n",
       "      <th>RHH2178</th>\n",
       "      <th>RHH2179</th>\n",
       "      <th>RHH2180</th>\n",
       "      <th>RHH2181</th>\n",
       "      <th>RHH2182</th>\n",
       "      <th>RHH2183</th>\n",
       "      <th>RHH2184</th>\n",
       "      <th>RHH2185</th>\n",
       "      <th>...</th>\n",
       "      <th>RHO707</th>\n",
       "      <th>RHO708</th>\n",
       "      <th>RHO709</th>\n",
       "      <th>RHO711</th>\n",
       "      <th>RHO712</th>\n",
       "      <th>RHO713</th>\n",
       "      <th>RHO714</th>\n",
       "      <th>RHO715</th>\n",
       "      <th>RHO716</th>\n",
       "      <th>RHO717</th>\n",
       "    </tr>\n",
       "    <tr>\n",
       "      <th>gene_id</th>\n",
       "      <th></th>\n",
       "      <th></th>\n",
       "      <th></th>\n",
       "      <th></th>\n",
       "      <th></th>\n",
       "      <th></th>\n",
       "      <th></th>\n",
       "      <th></th>\n",
       "      <th></th>\n",
       "      <th></th>\n",
       "      <th></th>\n",
       "      <th></th>\n",
       "      <th></th>\n",
       "      <th></th>\n",
       "      <th></th>\n",
       "      <th></th>\n",
       "      <th></th>\n",
       "      <th></th>\n",
       "      <th></th>\n",
       "      <th></th>\n",
       "      <th></th>\n",
       "    </tr>\n",
       "  </thead>\n",
       "  <tbody>\n",
       "    <tr>\n",
       "      <th>ENSG00000000003.10</th>\n",
       "      <td>49.14</td>\n",
       "      <td>48.85</td>\n",
       "      <td>131.23</td>\n",
       "      <td>178.24</td>\n",
       "      <td>23.44</td>\n",
       "      <td>153.69</td>\n",
       "      <td>9.38</td>\n",
       "      <td>96.24</td>\n",
       "      <td>81.05</td>\n",
       "      <td>10.09</td>\n",
       "      <td>...</td>\n",
       "      <td>46.83</td>\n",
       "      <td>127.02</td>\n",
       "      <td>121.74</td>\n",
       "      <td>101.40</td>\n",
       "      <td>27.24</td>\n",
       "      <td>72.80</td>\n",
       "      <td>121.54</td>\n",
       "      <td>131.68</td>\n",
       "      <td>18.73</td>\n",
       "      <td>45.72</td>\n",
       "    </tr>\n",
       "    <tr>\n",
       "      <th>ENSG00000000419.8</th>\n",
       "      <td>0.00</td>\n",
       "      <td>25.66</td>\n",
       "      <td>123.04</td>\n",
       "      <td>159.22</td>\n",
       "      <td>110.39</td>\n",
       "      <td>115.40</td>\n",
       "      <td>51.75</td>\n",
       "      <td>47.94</td>\n",
       "      <td>25.92</td>\n",
       "      <td>12.69</td>\n",
       "      <td>...</td>\n",
       "      <td>95.78</td>\n",
       "      <td>316.68</td>\n",
       "      <td>24.94</td>\n",
       "      <td>41.63</td>\n",
       "      <td>28.49</td>\n",
       "      <td>247.13</td>\n",
       "      <td>326.69</td>\n",
       "      <td>151.61</td>\n",
       "      <td>27.20</td>\n",
       "      <td>36.17</td>\n",
       "    </tr>\n",
       "    <tr>\n",
       "      <th>ENSG00000000457.9</th>\n",
       "      <td>0.00</td>\n",
       "      <td>0.00</td>\n",
       "      <td>26.77</td>\n",
       "      <td>4.13</td>\n",
       "      <td>0.00</td>\n",
       "      <td>0.00</td>\n",
       "      <td>0.00</td>\n",
       "      <td>0.00</td>\n",
       "      <td>0.00</td>\n",
       "      <td>0.00</td>\n",
       "      <td>...</td>\n",
       "      <td>2.41</td>\n",
       "      <td>3.62</td>\n",
       "      <td>1.41</td>\n",
       "      <td>5.64</td>\n",
       "      <td>0.00</td>\n",
       "      <td>0.00</td>\n",
       "      <td>0.00</td>\n",
       "      <td>0.39</td>\n",
       "      <td>0.00</td>\n",
       "      <td>5.66</td>\n",
       "    </tr>\n",
       "    <tr>\n",
       "      <th>ENSG00000000460.12</th>\n",
       "      <td>0.00</td>\n",
       "      <td>0.00</td>\n",
       "      <td>0.00</td>\n",
       "      <td>29.61</td>\n",
       "      <td>2.47</td>\n",
       "      <td>0.00</td>\n",
       "      <td>24.26</td>\n",
       "      <td>0.00</td>\n",
       "      <td>0.00</td>\n",
       "      <td>0.00</td>\n",
       "      <td>...</td>\n",
       "      <td>6.01</td>\n",
       "      <td>2.50</td>\n",
       "      <td>0.00</td>\n",
       "      <td>0.49</td>\n",
       "      <td>0.00</td>\n",
       "      <td>0.90</td>\n",
       "      <td>1.67</td>\n",
       "      <td>55.43</td>\n",
       "      <td>7.31</td>\n",
       "      <td>0.00</td>\n",
       "    </tr>\n",
       "    <tr>\n",
       "      <th>ENSG00000000971.11</th>\n",
       "      <td>0.00</td>\n",
       "      <td>7.30</td>\n",
       "      <td>75.75</td>\n",
       "      <td>0.00</td>\n",
       "      <td>32.28</td>\n",
       "      <td>0.00</td>\n",
       "      <td>4.91</td>\n",
       "      <td>0.00</td>\n",
       "      <td>0.00</td>\n",
       "      <td>0.00</td>\n",
       "      <td>...</td>\n",
       "      <td>0.00</td>\n",
       "      <td>0.00</td>\n",
       "      <td>0.00</td>\n",
       "      <td>0.00</td>\n",
       "      <td>0.00</td>\n",
       "      <td>0.32</td>\n",
       "      <td>1.62</td>\n",
       "      <td>0.00</td>\n",
       "      <td>0.00</td>\n",
       "      <td>7.88</td>\n",
       "    </tr>\n",
       "  </tbody>\n",
       "</table>\n",
       "<p>5 rows × 1171 columns</p>\n",
       "</div>"
      ],
      "text/plain": [
       "                    RHH2176  RHH2177  RHH2178  RHH2179  RHH2180  RHH2181  \\\n",
       "gene_id                                                                    \n",
       "ENSG00000000003.10    49.14    48.85   131.23   178.24    23.44   153.69   \n",
       "ENSG00000000419.8      0.00    25.66   123.04   159.22   110.39   115.40   \n",
       "ENSG00000000457.9      0.00     0.00    26.77     4.13     0.00     0.00   \n",
       "ENSG00000000460.12     0.00     0.00     0.00    29.61     2.47     0.00   \n",
       "ENSG00000000971.11     0.00     7.30    75.75     0.00    32.28     0.00   \n",
       "\n",
       "                    RHH2182  RHH2183  RHH2184  RHH2185  ...  RHO707  RHO708  \\\n",
       "gene_id                                                 ...                   \n",
       "ENSG00000000003.10     9.38    96.24    81.05    10.09  ...   46.83  127.02   \n",
       "ENSG00000000419.8     51.75    47.94    25.92    12.69  ...   95.78  316.68   \n",
       "ENSG00000000457.9      0.00     0.00     0.00     0.00  ...    2.41    3.62   \n",
       "ENSG00000000460.12    24.26     0.00     0.00     0.00  ...    6.01    2.50   \n",
       "ENSG00000000971.11     4.91     0.00     0.00     0.00  ...    0.00    0.00   \n",
       "\n",
       "                    RHO709  RHO711  RHO712  RHO713  RHO714  RHO715  RHO716  \\\n",
       "gene_id                                                                      \n",
       "ENSG00000000003.10  121.74  101.40   27.24   72.80  121.54  131.68   18.73   \n",
       "ENSG00000000419.8    24.94   41.63   28.49  247.13  326.69  151.61   27.20   \n",
       "ENSG00000000457.9     1.41    5.64    0.00    0.00    0.00    0.39    0.00   \n",
       "ENSG00000000460.12    0.00    0.49    0.00    0.90    1.67   55.43    7.31   \n",
       "ENSG00000000971.11    0.00    0.00    0.00    0.32    1.62    0.00    0.00   \n",
       "\n",
       "                    RHO717  \n",
       "gene_id                     \n",
       "ENSG00000000003.10   45.72  \n",
       "ENSG00000000419.8    36.17  \n",
       "ENSG00000000457.9     5.66  \n",
       "ENSG00000000460.12    0.00  \n",
       "ENSG00000000971.11    7.88  \n",
       "\n",
       "[5 rows x 1171 columns]"
      ]
     },
     "execution_count": 37,
     "metadata": {},
     "output_type": "execute_result"
    }
   ],
   "source": [
    "tpm_df.head()"
   ]
  },
  {
   "cell_type": "code",
   "execution_count": 50,
   "metadata": {},
   "outputs": [],
   "source": [
    "tpm_df.to_csv('../data/HN_patient_specific/hn_sc_tpm.csv')"
   ]
  },
  {
   "cell_type": "code",
   "execution_count": null,
   "metadata": {},
   "outputs": [],
   "source": []
  },
  {
   "cell_type": "code",
   "execution_count": null,
   "metadata": {},
   "outputs": [],
   "source": []
  },
  {
   "cell_type": "markdown",
   "metadata": {},
   "source": [
    "# Regenerate the mat_norm"
   ]
  },
  {
   "cell_type": "code",
   "execution_count": 74,
   "metadata": {},
   "outputs": [
    {
     "name": "stdout",
     "output_type": "stream",
     "text": [
      "(54999, 1247)\n"
     ]
    },
    {
     "data": {
      "text/html": [
       "<div>\n",
       "<style scoped>\n",
       "    .dataframe tbody tr th:only-of-type {\n",
       "        vertical-align: middle;\n",
       "    }\n",
       "\n",
       "    .dataframe tbody tr th {\n",
       "        vertical-align: top;\n",
       "    }\n",
       "\n",
       "    .dataframe thead th {\n",
       "        text-align: right;\n",
       "    }\n",
       "</style>\n",
       "<table border=\"1\" class=\"dataframe\">\n",
       "  <thead>\n",
       "    <tr style=\"text-align: right;\">\n",
       "      <th></th>\n",
       "      <th>RHH2176</th>\n",
       "      <th>RHH2177</th>\n",
       "      <th>RHH2178</th>\n",
       "      <th>RHH2179</th>\n",
       "      <th>RHH2180</th>\n",
       "      <th>RHH2181</th>\n",
       "      <th>RHH2182</th>\n",
       "      <th>RHH2183</th>\n",
       "      <th>RHH2184</th>\n",
       "      <th>RHH2185</th>\n",
       "      <th>...</th>\n",
       "      <th>RHO708</th>\n",
       "      <th>RHO709</th>\n",
       "      <th>RHO710</th>\n",
       "      <th>RHO711</th>\n",
       "      <th>RHO712</th>\n",
       "      <th>RHO713</th>\n",
       "      <th>RHO714</th>\n",
       "      <th>RHO715</th>\n",
       "      <th>RHO716</th>\n",
       "      <th>RHO717</th>\n",
       "    </tr>\n",
       "    <tr>\n",
       "      <th></th>\n",
       "      <th></th>\n",
       "      <th></th>\n",
       "      <th></th>\n",
       "      <th></th>\n",
       "      <th></th>\n",
       "      <th></th>\n",
       "      <th></th>\n",
       "      <th></th>\n",
       "      <th></th>\n",
       "      <th></th>\n",
       "      <th></th>\n",
       "      <th></th>\n",
       "      <th></th>\n",
       "      <th></th>\n",
       "      <th></th>\n",
       "      <th></th>\n",
       "      <th></th>\n",
       "      <th></th>\n",
       "      <th></th>\n",
       "      <th></th>\n",
       "      <th></th>\n",
       "    </tr>\n",
       "  </thead>\n",
       "  <tbody>\n",
       "    <tr>\n",
       "      <th>TSPAN6</th>\n",
       "      <td>2.0</td>\n",
       "      <td>7.0</td>\n",
       "      <td>132.0</td>\n",
       "      <td>58.0</td>\n",
       "      <td>11.0</td>\n",
       "      <td>115.0</td>\n",
       "      <td>2.0</td>\n",
       "      <td>13.0</td>\n",
       "      <td>27.0</td>\n",
       "      <td>1.0</td>\n",
       "      <td>...</td>\n",
       "      <td>295.0</td>\n",
       "      <td>116.0</td>\n",
       "      <td>0.0</td>\n",
       "      <td>121.0</td>\n",
       "      <td>38.0</td>\n",
       "      <td>116.0</td>\n",
       "      <td>234.0</td>\n",
       "      <td>227.0</td>\n",
       "      <td>17.0</td>\n",
       "      <td>71.0</td>\n",
       "    </tr>\n",
       "    <tr>\n",
       "      <th>TNMD</th>\n",
       "      <td>0.0</td>\n",
       "      <td>0.0</td>\n",
       "      <td>0.0</td>\n",
       "      <td>0.0</td>\n",
       "      <td>0.0</td>\n",
       "      <td>0.0</td>\n",
       "      <td>0.0</td>\n",
       "      <td>0.0</td>\n",
       "      <td>0.0</td>\n",
       "      <td>0.0</td>\n",
       "      <td>...</td>\n",
       "      <td>0.0</td>\n",
       "      <td>0.0</td>\n",
       "      <td>0.0</td>\n",
       "      <td>0.0</td>\n",
       "      <td>0.0</td>\n",
       "      <td>0.0</td>\n",
       "      <td>0.0</td>\n",
       "      <td>0.0</td>\n",
       "      <td>0.0</td>\n",
       "      <td>0.0</td>\n",
       "    </tr>\n",
       "    <tr>\n",
       "      <th>DPM1</th>\n",
       "      <td>0.0</td>\n",
       "      <td>1.0</td>\n",
       "      <td>50.0</td>\n",
       "      <td>24.0</td>\n",
       "      <td>24.0</td>\n",
       "      <td>40.0</td>\n",
       "      <td>3.0</td>\n",
       "      <td>3.0</td>\n",
       "      <td>4.0</td>\n",
       "      <td>1.0</td>\n",
       "      <td>...</td>\n",
       "      <td>341.0</td>\n",
       "      <td>11.0</td>\n",
       "      <td>0.0</td>\n",
       "      <td>23.0</td>\n",
       "      <td>16.0</td>\n",
       "      <td>189.0</td>\n",
       "      <td>291.0</td>\n",
       "      <td>121.0</td>\n",
       "      <td>20.0</td>\n",
       "      <td>26.0</td>\n",
       "    </tr>\n",
       "    <tr>\n",
       "      <th>SCYL3</th>\n",
       "      <td>0.0</td>\n",
       "      <td>0.0</td>\n",
       "      <td>36.0</td>\n",
       "      <td>4.0</td>\n",
       "      <td>0.0</td>\n",
       "      <td>0.0</td>\n",
       "      <td>0.0</td>\n",
       "      <td>0.0</td>\n",
       "      <td>0.0</td>\n",
       "      <td>0.0</td>\n",
       "      <td>...</td>\n",
       "      <td>25.0</td>\n",
       "      <td>4.0</td>\n",
       "      <td>0.0</td>\n",
       "      <td>20.0</td>\n",
       "      <td>0.0</td>\n",
       "      <td>0.0</td>\n",
       "      <td>0.0</td>\n",
       "      <td>2.0</td>\n",
       "      <td>0.0</td>\n",
       "      <td>6.0</td>\n",
       "    </tr>\n",
       "    <tr>\n",
       "      <th>C1orf112</th>\n",
       "      <td>0.0</td>\n",
       "      <td>0.0</td>\n",
       "      <td>0.0</td>\n",
       "      <td>4.0</td>\n",
       "      <td>2.0</td>\n",
       "      <td>0.0</td>\n",
       "      <td>9.0</td>\n",
       "      <td>0.0</td>\n",
       "      <td>0.0</td>\n",
       "      <td>0.0</td>\n",
       "      <td>...</td>\n",
       "      <td>10.0</td>\n",
       "      <td>0.0</td>\n",
       "      <td>0.0</td>\n",
       "      <td>1.0</td>\n",
       "      <td>0.0</td>\n",
       "      <td>3.0</td>\n",
       "      <td>1.0</td>\n",
       "      <td>38.0</td>\n",
       "      <td>5.0</td>\n",
       "      <td>0.0</td>\n",
       "    </tr>\n",
       "  </tbody>\n",
       "</table>\n",
       "<p>5 rows × 1247 columns</p>\n",
       "</div>"
      ],
      "text/plain": [
       "          RHH2176  RHH2177  RHH2178  RHH2179  RHH2180  RHH2181  RHH2182  \\\n",
       "                                                                          \n",
       "TSPAN6        2.0      7.0    132.0     58.0     11.0    115.0      2.0   \n",
       "TNMD          0.0      0.0      0.0      0.0      0.0      0.0      0.0   \n",
       "DPM1          0.0      1.0     50.0     24.0     24.0     40.0      3.0   \n",
       "SCYL3         0.0      0.0     36.0      4.0      0.0      0.0      0.0   \n",
       "C1orf112      0.0      0.0      0.0      4.0      2.0      0.0      9.0   \n",
       "\n",
       "          RHH2183  RHH2184  RHH2185  ...  RHO708  RHO709  RHO710  RHO711  \\\n",
       "                                     ...                                   \n",
       "TSPAN6       13.0     27.0      1.0  ...   295.0   116.0     0.0   121.0   \n",
       "TNMD          0.0      0.0      0.0  ...     0.0     0.0     0.0     0.0   \n",
       "DPM1          3.0      4.0      1.0  ...   341.0    11.0     0.0    23.0   \n",
       "SCYL3         0.0      0.0      0.0  ...    25.0     4.0     0.0    20.0   \n",
       "C1orf112      0.0      0.0      0.0  ...    10.0     0.0     0.0     1.0   \n",
       "\n",
       "          RHO712  RHO713  RHO714  RHO715  RHO716  RHO717  \n",
       "                                                          \n",
       "TSPAN6      38.0   116.0   234.0   227.0    17.0    71.0  \n",
       "TNMD         0.0     0.0     0.0     0.0     0.0     0.0  \n",
       "DPM1        16.0   189.0   291.0   121.0    20.0    26.0  \n",
       "SCYL3        0.0     0.0     0.0     2.0     0.0     6.0  \n",
       "C1orf112     0.0     3.0     1.0    38.0     5.0     0.0  \n",
       "\n",
       "[5 rows x 1247 columns]"
      ]
     },
     "execution_count": 74,
     "metadata": {},
     "output_type": "execute_result"
    }
   ],
   "source": [
    "count_df = pd.read_csv('../data/HN_patient_specific/star_rsem_output/HN120-182/countdata.csv', index_col=0)\n",
    "count_df = count_df.set_index('mat57[, 1]')\n",
    "count_df.index.name = ''\n",
    "print (count_df.shape)\n",
    "count_df.head()"
   ]
  },
  {
   "cell_type": "code",
   "execution_count": 57,
   "metadata": {},
   "outputs": [
    {
     "name": "stdout",
     "output_type": "stream",
     "text": [
      "(26968, 1241)\n"
     ]
    },
    {
     "data": {
      "text/html": [
       "<div>\n",
       "<style scoped>\n",
       "    .dataframe tbody tr th:only-of-type {\n",
       "        vertical-align: middle;\n",
       "    }\n",
       "\n",
       "    .dataframe tbody tr th {\n",
       "        vertical-align: top;\n",
       "    }\n",
       "\n",
       "    .dataframe thead th {\n",
       "        text-align: right;\n",
       "    }\n",
       "</style>\n",
       "<table border=\"1\" class=\"dataframe\">\n",
       "  <thead>\n",
       "    <tr style=\"text-align: right;\">\n",
       "      <th></th>\n",
       "      <th>RHH2176</th>\n",
       "      <th>RHH2177</th>\n",
       "      <th>RHH2178</th>\n",
       "      <th>RHH2179</th>\n",
       "      <th>RHH2180</th>\n",
       "      <th>RHH2181</th>\n",
       "      <th>RHH2182</th>\n",
       "      <th>RHH2183</th>\n",
       "      <th>RHH2184</th>\n",
       "      <th>RHH2185</th>\n",
       "      <th>...</th>\n",
       "      <th>RHO708</th>\n",
       "      <th>RHO709</th>\n",
       "      <th>RHO710</th>\n",
       "      <th>RHO711</th>\n",
       "      <th>RHO712</th>\n",
       "      <th>RHO713</th>\n",
       "      <th>RHO714</th>\n",
       "      <th>RHO715</th>\n",
       "      <th>RHO716</th>\n",
       "      <th>RHO717</th>\n",
       "    </tr>\n",
       "  </thead>\n",
       "  <tbody>\n",
       "    <tr>\n",
       "      <th>TSPAN6</th>\n",
       "      <td>0.71</td>\n",
       "      <td>0.67</td>\n",
       "      <td>1.18</td>\n",
       "      <td>1.38</td>\n",
       "      <td>0.33</td>\n",
       "      <td>1.28</td>\n",
       "      <td>0.17</td>\n",
       "      <td>1.10</td>\n",
       "      <td>0.91</td>\n",
       "      <td>0.06</td>\n",
       "      <td>...</td>\n",
       "      <td>1.45</td>\n",
       "      <td>1.34</td>\n",
       "      <td>0.0</td>\n",
       "      <td>1.26</td>\n",
       "      <td>0.52</td>\n",
       "      <td>1.00</td>\n",
       "      <td>1.38</td>\n",
       "      <td>1.41</td>\n",
       "      <td>0.21</td>\n",
       "      <td>0.76</td>\n",
       "    </tr>\n",
       "    <tr>\n",
       "      <th>DPM1</th>\n",
       "      <td>0.00</td>\n",
       "      <td>0.13</td>\n",
       "      <td>0.62</td>\n",
       "      <td>0.80</td>\n",
       "      <td>0.62</td>\n",
       "      <td>0.64</td>\n",
       "      <td>0.24</td>\n",
       "      <td>0.38</td>\n",
       "      <td>0.20</td>\n",
       "      <td>0.06</td>\n",
       "      <td>...</td>\n",
       "      <td>1.56</td>\n",
       "      <td>0.24</td>\n",
       "      <td>0.0</td>\n",
       "      <td>0.39</td>\n",
       "      <td>0.25</td>\n",
       "      <td>1.33</td>\n",
       "      <td>1.54</td>\n",
       "      <td>0.97</td>\n",
       "      <td>0.25</td>\n",
       "      <td>0.35</td>\n",
       "    </tr>\n",
       "    <tr>\n",
       "      <th>SCYL3</th>\n",
       "      <td>0.00</td>\n",
       "      <td>0.00</td>\n",
       "      <td>0.48</td>\n",
       "      <td>0.19</td>\n",
       "      <td>0.00</td>\n",
       "      <td>0.00</td>\n",
       "      <td>0.00</td>\n",
       "      <td>0.00</td>\n",
       "      <td>0.00</td>\n",
       "      <td>0.00</td>\n",
       "      <td>...</td>\n",
       "      <td>0.24</td>\n",
       "      <td>0.09</td>\n",
       "      <td>0.0</td>\n",
       "      <td>0.35</td>\n",
       "      <td>0.00</td>\n",
       "      <td>0.00</td>\n",
       "      <td>0.00</td>\n",
       "      <td>0.03</td>\n",
       "      <td>0.00</td>\n",
       "      <td>0.09</td>\n",
       "    </tr>\n",
       "    <tr>\n",
       "      <th>C1orf112</th>\n",
       "      <td>0.00</td>\n",
       "      <td>0.00</td>\n",
       "      <td>0.00</td>\n",
       "      <td>0.19</td>\n",
       "      <td>0.07</td>\n",
       "      <td>0.00</td>\n",
       "      <td>0.59</td>\n",
       "      <td>0.00</td>\n",
       "      <td>0.00</td>\n",
       "      <td>0.00</td>\n",
       "      <td>...</td>\n",
       "      <td>0.10</td>\n",
       "      <td>0.00</td>\n",
       "      <td>0.0</td>\n",
       "      <td>0.02</td>\n",
       "      <td>0.00</td>\n",
       "      <td>0.04</td>\n",
       "      <td>0.01</td>\n",
       "      <td>0.42</td>\n",
       "      <td>0.07</td>\n",
       "      <td>0.00</td>\n",
       "    </tr>\n",
       "    <tr>\n",
       "      <th>FGR</th>\n",
       "      <td>0.00</td>\n",
       "      <td>0.00</td>\n",
       "      <td>0.00</td>\n",
       "      <td>0.00</td>\n",
       "      <td>0.00</td>\n",
       "      <td>0.00</td>\n",
       "      <td>0.00</td>\n",
       "      <td>0.00</td>\n",
       "      <td>0.00</td>\n",
       "      <td>0.00</td>\n",
       "      <td>...</td>\n",
       "      <td>0.00</td>\n",
       "      <td>0.00</td>\n",
       "      <td>0.0</td>\n",
       "      <td>0.00</td>\n",
       "      <td>0.00</td>\n",
       "      <td>0.00</td>\n",
       "      <td>0.00</td>\n",
       "      <td>0.00</td>\n",
       "      <td>0.00</td>\n",
       "      <td>0.00</td>\n",
       "    </tr>\n",
       "  </tbody>\n",
       "</table>\n",
       "<p>5 rows × 1241 columns</p>\n",
       "</div>"
      ],
      "text/plain": [
       "          RHH2176  RHH2177  RHH2178  RHH2179  RHH2180  RHH2181  RHH2182  \\\n",
       "TSPAN6       0.71     0.67     1.18     1.38     0.33     1.28     0.17   \n",
       "DPM1         0.00     0.13     0.62     0.80     0.62     0.64     0.24   \n",
       "SCYL3        0.00     0.00     0.48     0.19     0.00     0.00     0.00   \n",
       "C1orf112     0.00     0.00     0.00     0.19     0.07     0.00     0.59   \n",
       "FGR          0.00     0.00     0.00     0.00     0.00     0.00     0.00   \n",
       "\n",
       "          RHH2183  RHH2184  RHH2185  ...  RHO708  RHO709  RHO710  RHO711  \\\n",
       "TSPAN6       1.10     0.91     0.06  ...    1.45    1.34     0.0    1.26   \n",
       "DPM1         0.38     0.20     0.06  ...    1.56    0.24     0.0    0.39   \n",
       "SCYL3        0.00     0.00     0.00  ...    0.24    0.09     0.0    0.35   \n",
       "C1orf112     0.00     0.00     0.00  ...    0.10    0.00     0.0    0.02   \n",
       "FGR          0.00     0.00     0.00  ...    0.00    0.00     0.0    0.00   \n",
       "\n",
       "          RHO712  RHO713  RHO714  RHO715  RHO716  RHO717  \n",
       "TSPAN6      0.52    1.00    1.38    1.41    0.21    0.76  \n",
       "DPM1        0.25    1.33    1.54    0.97    0.25    0.35  \n",
       "SCYL3       0.00    0.00    0.00    0.03    0.00    0.09  \n",
       "C1orf112    0.00    0.04    0.01    0.42    0.07    0.00  \n",
       "FGR         0.00    0.00    0.00    0.00    0.00    0.00  \n",
       "\n",
       "[5 rows x 1241 columns]"
      ]
     },
     "execution_count": 57,
     "metadata": {},
     "output_type": "execute_result"
    }
   ],
   "source": [
    "old_mat_norm_df = pd.read_csv('../data/HN_patient_specific/old_norm_cluster_results/mat_norm.csv', index_col=0)\n",
    "print (old_mat_norm_df.shape)\n",
    "old_mat_norm_df.head()"
   ]
  },
  {
   "cell_type": "code",
   "execution_count": 62,
   "metadata": {},
   "outputs": [
    {
     "data": {
      "text/html": [
       "<div>\n",
       "<style scoped>\n",
       "    .dataframe tbody tr th:only-of-type {\n",
       "        vertical-align: middle;\n",
       "    }\n",
       "\n",
       "    .dataframe tbody tr th {\n",
       "        vertical-align: top;\n",
       "    }\n",
       "\n",
       "    .dataframe thead th {\n",
       "        text-align: right;\n",
       "    }\n",
       "</style>\n",
       "<table border=\"1\" class=\"dataframe\">\n",
       "  <thead>\n",
       "    <tr style=\"text-align: right;\">\n",
       "      <th></th>\n",
       "      <th>factor</th>\n",
       "    </tr>\n",
       "  </thead>\n",
       "  <tbody>\n",
       "    <tr>\n",
       "      <th>RHH2176</th>\n",
       "      <td>1.95</td>\n",
       "    </tr>\n",
       "    <tr>\n",
       "      <th>RHH2177</th>\n",
       "      <td>7.38</td>\n",
       "    </tr>\n",
       "    <tr>\n",
       "      <th>RHH2178</th>\n",
       "      <td>58.35</td>\n",
       "    </tr>\n",
       "    <tr>\n",
       "      <th>RHH2179</th>\n",
       "      <td>19.53</td>\n",
       "    </tr>\n",
       "    <tr>\n",
       "      <th>RHH2180</th>\n",
       "      <td>27.75</td>\n",
       "    </tr>\n",
       "  </tbody>\n",
       "</table>\n",
       "</div>"
      ],
      "text/plain": [
       "         factor\n",
       "RHH2176    1.95\n",
       "RHH2177    7.38\n",
       "RHH2178   58.35\n",
       "RHH2179   19.53\n",
       "RHH2180   27.75"
      ]
     },
     "execution_count": 62,
     "metadata": {},
     "output_type": "execute_result"
    }
   ],
   "source": [
    "factor_df = pd.DataFrame(count_df.sum() / 10000, columns=['factor'])\n",
    "factor_df.head()"
   ]
  },
  {
   "cell_type": "code",
   "execution_count": 100,
   "metadata": {},
   "outputs": [
    {
     "data": {
      "text/plain": [
       "<matplotlib.axes._subplots.AxesSubplot at 0x19046a76dd8>"
      ]
     },
     "execution_count": 100,
     "metadata": {},
     "output_type": "execute_result"
    },
    {
     "data": {
      "image/png": "[encoded data removed]",
      "text/plain": [
       "<Figure size 432x288 with 1 Axes>"
      ]
     },
     "metadata": {},
     "output_type": "display_data"
    }
   ],
   "source": [
    "sns.distplot(factor_df['factor'])"
   ]
  },
  {
   "cell_type": "code",
   "execution_count": 71,
   "metadata": {},
   "outputs": [
    {
     "data": {
      "text/html": [
       "<div>\n",
       "<style scoped>\n",
       "    .dataframe tbody tr th:only-of-type {\n",
       "        vertical-align: middle;\n",
       "    }\n",
       "\n",
       "    .dataframe tbody tr th {\n",
       "        vertical-align: top;\n",
       "    }\n",
       "\n",
       "    .dataframe thead th {\n",
       "        text-align: right;\n",
       "    }\n",
       "</style>\n",
       "<table border=\"1\" class=\"dataframe\">\n",
       "  <thead>\n",
       "    <tr style=\"text-align: right;\">\n",
       "      <th></th>\n",
       "      <th>RHH2176</th>\n",
       "      <th>RHH2177</th>\n",
       "      <th>RHH2178</th>\n",
       "      <th>RHH2179</th>\n",
       "      <th>RHH2180</th>\n",
       "      <th>RHH2181</th>\n",
       "      <th>RHH2182</th>\n",
       "      <th>RHH2183</th>\n",
       "      <th>RHH2184</th>\n",
       "      <th>RHH2185</th>\n",
       "      <th>...</th>\n",
       "      <th>RHO708</th>\n",
       "      <th>RHO709</th>\n",
       "      <th>RHO710</th>\n",
       "      <th>RHO711</th>\n",
       "      <th>RHO712</th>\n",
       "      <th>RHO713</th>\n",
       "      <th>RHO714</th>\n",
       "      <th>RHO715</th>\n",
       "      <th>RHO716</th>\n",
       "      <th>RHO717</th>\n",
       "    </tr>\n",
       "    <tr>\n",
       "      <th></th>\n",
       "      <th></th>\n",
       "      <th></th>\n",
       "      <th></th>\n",
       "      <th></th>\n",
       "      <th></th>\n",
       "      <th></th>\n",
       "      <th></th>\n",
       "      <th></th>\n",
       "      <th></th>\n",
       "      <th></th>\n",
       "      <th></th>\n",
       "      <th></th>\n",
       "      <th></th>\n",
       "      <th></th>\n",
       "      <th></th>\n",
       "      <th></th>\n",
       "      <th></th>\n",
       "      <th></th>\n",
       "      <th></th>\n",
       "      <th></th>\n",
       "      <th></th>\n",
       "    </tr>\n",
       "  </thead>\n",
       "  <tbody>\n",
       "    <tr>\n",
       "      <th>TSPAN6</th>\n",
       "      <td>0.71</td>\n",
       "      <td>0.67</td>\n",
       "      <td>1.18</td>\n",
       "      <td>1.38</td>\n",
       "      <td>0.33</td>\n",
       "      <td>1.28</td>\n",
       "      <td>0.17</td>\n",
       "      <td>1.10</td>\n",
       "      <td>0.91</td>\n",
       "      <td>0.06</td>\n",
       "      <td>...</td>\n",
       "      <td>1.45</td>\n",
       "      <td>1.34</td>\n",
       "      <td>0.0</td>\n",
       "      <td>1.26</td>\n",
       "      <td>0.52</td>\n",
       "      <td>1.00</td>\n",
       "      <td>1.38</td>\n",
       "      <td>1.41</td>\n",
       "      <td>0.21</td>\n",
       "      <td>0.76</td>\n",
       "    </tr>\n",
       "    <tr>\n",
       "      <th>TNMD</th>\n",
       "      <td>0.00</td>\n",
       "      <td>0.00</td>\n",
       "      <td>0.00</td>\n",
       "      <td>0.00</td>\n",
       "      <td>0.00</td>\n",
       "      <td>0.00</td>\n",
       "      <td>0.00</td>\n",
       "      <td>0.00</td>\n",
       "      <td>0.00</td>\n",
       "      <td>0.00</td>\n",
       "      <td>...</td>\n",
       "      <td>0.00</td>\n",
       "      <td>0.00</td>\n",
       "      <td>0.0</td>\n",
       "      <td>0.00</td>\n",
       "      <td>0.00</td>\n",
       "      <td>0.00</td>\n",
       "      <td>0.00</td>\n",
       "      <td>0.00</td>\n",
       "      <td>0.00</td>\n",
       "      <td>0.00</td>\n",
       "    </tr>\n",
       "    <tr>\n",
       "      <th>DPM1</th>\n",
       "      <td>0.00</td>\n",
       "      <td>0.13</td>\n",
       "      <td>0.62</td>\n",
       "      <td>0.80</td>\n",
       "      <td>0.62</td>\n",
       "      <td>0.64</td>\n",
       "      <td>0.24</td>\n",
       "      <td>0.38</td>\n",
       "      <td>0.20</td>\n",
       "      <td>0.06</td>\n",
       "      <td>...</td>\n",
       "      <td>1.56</td>\n",
       "      <td>0.24</td>\n",
       "      <td>0.0</td>\n",
       "      <td>0.39</td>\n",
       "      <td>0.25</td>\n",
       "      <td>1.33</td>\n",
       "      <td>1.55</td>\n",
       "      <td>0.97</td>\n",
       "      <td>0.25</td>\n",
       "      <td>0.35</td>\n",
       "    </tr>\n",
       "    <tr>\n",
       "      <th>SCYL3</th>\n",
       "      <td>0.00</td>\n",
       "      <td>0.00</td>\n",
       "      <td>0.48</td>\n",
       "      <td>0.19</td>\n",
       "      <td>0.00</td>\n",
       "      <td>0.00</td>\n",
       "      <td>0.00</td>\n",
       "      <td>0.00</td>\n",
       "      <td>0.00</td>\n",
       "      <td>0.00</td>\n",
       "      <td>...</td>\n",
       "      <td>0.24</td>\n",
       "      <td>0.09</td>\n",
       "      <td>0.0</td>\n",
       "      <td>0.35</td>\n",
       "      <td>0.00</td>\n",
       "      <td>0.00</td>\n",
       "      <td>0.00</td>\n",
       "      <td>0.03</td>\n",
       "      <td>0.00</td>\n",
       "      <td>0.09</td>\n",
       "    </tr>\n",
       "    <tr>\n",
       "      <th>C1orf112</th>\n",
       "      <td>0.00</td>\n",
       "      <td>0.00</td>\n",
       "      <td>0.00</td>\n",
       "      <td>0.19</td>\n",
       "      <td>0.07</td>\n",
       "      <td>0.00</td>\n",
       "      <td>0.60</td>\n",
       "      <td>0.00</td>\n",
       "      <td>0.00</td>\n",
       "      <td>0.00</td>\n",
       "      <td>...</td>\n",
       "      <td>0.10</td>\n",
       "      <td>0.00</td>\n",
       "      <td>0.0</td>\n",
       "      <td>0.02</td>\n",
       "      <td>0.00</td>\n",
       "      <td>0.04</td>\n",
       "      <td>0.01</td>\n",
       "      <td>0.42</td>\n",
       "      <td>0.07</td>\n",
       "      <td>0.00</td>\n",
       "    </tr>\n",
       "  </tbody>\n",
       "</table>\n",
       "<p>5 rows × 1247 columns</p>\n",
       "</div>"
      ],
      "text/plain": [
       "          RHH2176  RHH2177  RHH2178  RHH2179  RHH2180  RHH2181  RHH2182  \\\n",
       "                                                                          \n",
       "TSPAN6       0.71     0.67     1.18     1.38     0.33     1.28     0.17   \n",
       "TNMD         0.00     0.00     0.00     0.00     0.00     0.00     0.00   \n",
       "DPM1         0.00     0.13     0.62     0.80     0.62     0.64     0.24   \n",
       "SCYL3        0.00     0.00     0.48     0.19     0.00     0.00     0.00   \n",
       "C1orf112     0.00     0.00     0.00     0.19     0.07     0.00     0.60   \n",
       "\n",
       "          RHH2183  RHH2184  RHH2185  ...  RHO708  RHO709  RHO710  RHO711  \\\n",
       "                                     ...                                   \n",
       "TSPAN6       1.10     0.91     0.06  ...    1.45    1.34     0.0    1.26   \n",
       "TNMD         0.00     0.00     0.00  ...    0.00    0.00     0.0    0.00   \n",
       "DPM1         0.38     0.20     0.06  ...    1.56    0.24     0.0    0.39   \n",
       "SCYL3        0.00     0.00     0.00  ...    0.24    0.09     0.0    0.35   \n",
       "C1orf112     0.00     0.00     0.00  ...    0.10    0.00     0.0    0.02   \n",
       "\n",
       "          RHO712  RHO713  RHO714  RHO715  RHO716  RHO717  \n",
       "                                                          \n",
       "TSPAN6      0.52    1.00    1.38    1.41    0.21    0.76  \n",
       "TNMD        0.00    0.00    0.00    0.00    0.00    0.00  \n",
       "DPM1        0.25    1.33    1.55    0.97    0.25    0.35  \n",
       "SCYL3       0.00    0.00    0.00    0.03    0.00    0.09  \n",
       "C1orf112    0.00    0.04    0.01    0.42    0.07    0.00  \n",
       "\n",
       "[5 rows x 1247 columns]"
      ]
     },
     "execution_count": 71,
     "metadata": {},
     "output_type": "execute_result"
    }
   ],
   "source": [
    "new_mat_norm_df = np.log((count_df / factor_df['factor']) + 1)\n",
    "new_mat_norm_df.head()"
   ]
  },
  {
   "cell_type": "code",
   "execution_count": 96,
   "metadata": {},
   "outputs": [],
   "source": [
    "new_mat_norm_sum_df = new_mat_norm_df.reset_index().groupby('').sum()"
   ]
  },
  {
   "cell_type": "code",
   "execution_count": 97,
   "metadata": {},
   "outputs": [
    {
     "data": {
      "text/plain": [
       "14882"
      ]
     },
     "execution_count": 97,
     "metadata": {},
     "output_type": "execute_result"
    }
   ],
   "source": [
    "selected_gene_name_list = new_mat_norm_sum_df.index[((new_mat_norm_sum_df > 0).T.sum() >= min_n_cells)]\n",
    "len(selected_gene_name_list)"
   ]
  },
  {
   "cell_type": "code",
   "execution_count": 98,
   "metadata": {},
   "outputs": [
    {
     "data": {
      "text/plain": [
       "(14882, 1171)"
      ]
     },
     "execution_count": 98,
     "metadata": {},
     "output_type": "execute_result"
    }
   ],
   "source": [
    "new_mat_norm_sum_df = new_mat_norm_sum_df.loc[selected_gene_name_list, selected_cell_list]\n",
    "new_mat_norm_sum_df.shape"
   ]
  },
  {
   "cell_type": "code",
   "execution_count": 99,
   "metadata": {},
   "outputs": [],
   "source": [
    "new_mat_norm_sum_df.to_csv('../data/HN_patient_specific/hn_mat_norm.csv')"
   ]
  },
  {
   "cell_type": "code",
   "execution_count": null,
   "metadata": {},
   "outputs": [],
   "source": []
  }
 ],
 "metadata": {
  "kernelspec": {
   "display_name": "Python 3",
   "language": "python",
   "name": "python3"
  },
  "language_info": {
   "codemirror_mode": {
    "name": "ipython",
    "version": 3
   },
   "file_extension": ".py",
   "mimetype": "text/x-python",
   "name": "python",
   "nbconvert_exporter": "python",
   "pygments_lexer": "ipython3",
   "version": "3.7.7"
  },
  "toc": {
   "base_numbering": 1,
   "nav_menu": {},
   "number_sections": false,
   "sideBar": true,
   "skip_h1_title": false,
   "title_cell": "Table of Contents",
   "title_sidebar": "Contents",
   "toc_cell": false,
   "toc_position": {},
   "toc_section_display": true,
   "toc_window_display": true
  }
 },
 "nbformat": 4,
 "nbformat_minor": 2
}
