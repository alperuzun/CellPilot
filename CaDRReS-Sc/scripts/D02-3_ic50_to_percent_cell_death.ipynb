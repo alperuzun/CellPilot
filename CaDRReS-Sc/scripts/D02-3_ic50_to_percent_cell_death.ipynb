{
 "cells": [
  {
   "cell_type": "code",
   "execution_count": 2,
   "metadata": {
    "ExecuteTime": {
     "end_time": "2020-11-19T00:51:03.910254Z",
     "start_time": "2020-11-19T00:51:03.202765Z"
    }
   },
   "outputs": [],
   "source": [
    "import os\n",
    "import pandas as pd\n",
    "import numpy as np\n",
    "np.set_printoptions(precision=2)\n",
    "\n",
    "import matplotlib.pyplot as plt\n",
    "import seaborn as sns\n",
    "from scipy import stats\n",
    "from collections import Counter\n",
    "\n",
    "sns.set_style('ticks')\n",
    "\n",
    "%matplotlib inline\n",
    "import warnings\n",
    "warnings.filterwarnings('ignore')\n",
    "import matplotlib as mpl\n",
    "mpl.rcParams['figure.dpi']= 300\n",
    "mpl.rc(\"savefig\", dpi=300)"
   ]
  },
  {
   "cell_type": "markdown",
   "metadata": {},
   "source": [
    "##### Read files and select drugs"
   ]
  },
  {
   "cell_type": "code",
   "execution_count": 3,
   "metadata": {
    "ExecuteTime": {
     "end_time": "2020-11-19T00:51:03.917152Z",
     "start_time": "2020-11-19T00:51:03.911986Z"
    }
   },
   "outputs": [],
   "source": [
    "# log2_median_ic50, log2_median_ic50_9f, log2_median_ic50_hn, log2_median_ic50_3f_hn, log2_median_ic50_9f_hn, log2_max_conc, log2_median_ic50_3f_hn\n",
    "ref_type = 'log2_median_ic50_hn' # log2_median_ic50_3f_hn | log2_median_ic50_hn\n",
    "model_name = 'hn_drug_cw_dw10_100000_model2' # hn_drug_cw_dw10_100000_model | hn_drug_cw_dw1_100000_model | hn_drug_cw_dwsim10_100000_model\n",
    "\n",
    "# for each patient, if cell cluster is less than 5%, then we don't consider that cluster \n",
    "freq_cutoff = 0.05\n",
    "\n",
    "# shift the dosage as GDSC experiment (Syto60) is less sensitive\n",
    "dosage_shifted = False"
   ]
  },
  {
   "cell_type": "code",
   "execution_count": 4,
   "metadata": {
    "ExecuteTime": {
     "end_time": "2020-11-19T00:51:04.354726Z",
     "start_time": "2020-11-19T00:51:04.322286Z"
    }
   },
   "outputs": [
    {
     "name": "stdout",
     "output_type": "stream",
     "text": [
      "(81, 27)\n"
     ]
    }
   ],
   "source": [
    "drug_info_df = pd.read_csv('../preprocessed_data/GDSC/hn_drug_stat.csv', index_col=0)\n",
    "drug_info_df.index = drug_info_df.index.astype(str)\n",
    "\n",
    "drug_id_name_dict = dict(zip(drug_info_df.index, drug_info_df['Drug Name']))\n",
    "print (drug_info_df.shape)"
   ]
  },
  {
   "cell_type": "code",
   "execution_count": 5,
   "metadata": {
    "ExecuteTime": {
     "end_time": "2020-11-19T00:51:04.861234Z",
     "start_time": "2020-11-19T00:51:04.852499Z"
    }
   },
   "outputs": [
    {
     "data": {
      "text/plain": [
       "[]"
      ]
     },
     "execution_count": 5,
     "metadata": {},
     "output_type": "execute_result"
    }
   ],
   "source": [
    "tested_drug_list = [1032, 1007, 133, 201, 1010] + [182, 301, 302]\n",
    "[d for d in tested_drug_list if d not in drug_info_df.index.astype(int)]"
   ]
  },
  {
   "cell_type": "markdown",
   "metadata": {},
   "source": [
    "##### Read predicted IC50"
   ]
  },
  {
   "cell_type": "code",
   "execution_count": 6,
   "metadata": {
    "ExecuteTime": {
     "end_time": "2020-11-19T00:51:06.350494Z",
     "start_time": "2020-11-19T00:51:06.348062Z"
    }
   },
   "outputs": [],
   "source": [
    "norm_type = 'TPM'"
   ]
  },
  {
   "cell_type": "code",
   "execution_count": 7,
   "metadata": {
    "ExecuteTime": {
     "end_time": "2020-11-19T00:51:11.589054Z",
     "start_time": "2020-11-19T00:51:11.578044Z"
    }
   },
   "outputs": [],
   "source": [
    "cadrres_cluster_df = pd.read_csv('../result/HN_model/{}/pred_gdsc_no_bias_{}.csv'.format(norm_type, model_name), index_col=0)\n",
    "out_dir = '../result/HN_model/{}/'.format(norm_type)"
   ]
  },
  {
   "cell_type": "code",
   "execution_count": 8,
   "metadata": {
    "ExecuteTime": {
     "end_time": "2020-11-19T00:51:11.981861Z",
     "start_time": "2020-11-19T00:51:11.959788Z"
    }
   },
   "outputs": [
    {
     "data": {
      "text/html": [
       "<div>\n",
       "<style scoped>\n",
       "    .dataframe tbody tr th:only-of-type {\n",
       "        vertical-align: middle;\n",
       "    }\n",
       "\n",
       "    .dataframe tbody tr th {\n",
       "        vertical-align: top;\n",
       "    }\n",
       "\n",
       "    .dataframe thead th {\n",
       "        text-align: right;\n",
       "    }\n",
       "</style>\n",
       "<table border=\"1\" class=\"dataframe\">\n",
       "  <thead>\n",
       "    <tr style=\"text-align: right;\">\n",
       "      <th></th>\n",
       "      <th>1001</th>\n",
       "      <th>1003</th>\n",
       "      <th>1004</th>\n",
       "      <th>1006</th>\n",
       "      <th>1007</th>\n",
       "      <th>1010</th>\n",
       "      <th>1012</th>\n",
       "      <th>1014</th>\n",
       "      <th>1015</th>\n",
       "      <th>1016</th>\n",
       "      <th>...</th>\n",
       "      <th>299</th>\n",
       "      <th>301</th>\n",
       "      <th>302</th>\n",
       "      <th>303</th>\n",
       "      <th>305</th>\n",
       "      <th>306</th>\n",
       "      <th>308</th>\n",
       "      <th>328</th>\n",
       "      <th>331</th>\n",
       "      <th>346</th>\n",
       "    </tr>\n",
       "  </thead>\n",
       "  <tbody>\n",
       "    <tr>\n",
       "      <th>A1</th>\n",
       "      <td>10.420753</td>\n",
       "      <td>-4.931614</td>\n",
       "      <td>-6.004500</td>\n",
       "      <td>1.020800</td>\n",
       "      <td>-6.907026</td>\n",
       "      <td>0.010804</td>\n",
       "      <td>0.767327</td>\n",
       "      <td>2.669532</td>\n",
       "      <td>3.557212</td>\n",
       "      <td>-1.827517</td>\n",
       "      <td>...</td>\n",
       "      <td>0.623491</td>\n",
       "      <td>2.509283</td>\n",
       "      <td>0.253886</td>\n",
       "      <td>3.219520</td>\n",
       "      <td>3.715341</td>\n",
       "      <td>2.516973</td>\n",
       "      <td>-0.655629</td>\n",
       "      <td>-1.366619</td>\n",
       "      <td>1.653326</td>\n",
       "      <td>-3.889950</td>\n",
       "    </tr>\n",
       "    <tr>\n",
       "      <th>A2</th>\n",
       "      <td>10.029803</td>\n",
       "      <td>-6.648713</td>\n",
       "      <td>-6.930798</td>\n",
       "      <td>-0.166377</td>\n",
       "      <td>-7.378364</td>\n",
       "      <td>0.097552</td>\n",
       "      <td>0.091080</td>\n",
       "      <td>2.163354</td>\n",
       "      <td>3.025933</td>\n",
       "      <td>-2.208191</td>\n",
       "      <td>...</td>\n",
       "      <td>0.772386</td>\n",
       "      <td>2.292860</td>\n",
       "      <td>0.609074</td>\n",
       "      <td>2.997777</td>\n",
       "      <td>3.321205</td>\n",
       "      <td>2.365288</td>\n",
       "      <td>-1.005312</td>\n",
       "      <td>-2.153061</td>\n",
       "      <td>1.553563</td>\n",
       "      <td>-4.294621</td>\n",
       "    </tr>\n",
       "    <tr>\n",
       "      <th>B1</th>\n",
       "      <td>10.999528</td>\n",
       "      <td>-4.828735</td>\n",
       "      <td>-5.298303</td>\n",
       "      <td>1.518215</td>\n",
       "      <td>-6.276227</td>\n",
       "      <td>1.112556</td>\n",
       "      <td>1.933984</td>\n",
       "      <td>3.340932</td>\n",
       "      <td>4.319857</td>\n",
       "      <td>-1.486664</td>\n",
       "      <td>...</td>\n",
       "      <td>1.185538</td>\n",
       "      <td>2.537640</td>\n",
       "      <td>0.721641</td>\n",
       "      <td>3.833265</td>\n",
       "      <td>4.209246</td>\n",
       "      <td>2.785194</td>\n",
       "      <td>1.595900</td>\n",
       "      <td>0.226684</td>\n",
       "      <td>1.879187</td>\n",
       "      <td>-1.331815</td>\n",
       "    </tr>\n",
       "    <tr>\n",
       "      <th>B2</th>\n",
       "      <td>10.646720</td>\n",
       "      <td>-5.574027</td>\n",
       "      <td>-6.365360</td>\n",
       "      <td>0.909347</td>\n",
       "      <td>-7.032869</td>\n",
       "      <td>0.892130</td>\n",
       "      <td>1.614273</td>\n",
       "      <td>3.192027</td>\n",
       "      <td>4.276430</td>\n",
       "      <td>-1.907378</td>\n",
       "      <td>...</td>\n",
       "      <td>0.916235</td>\n",
       "      <td>2.221327</td>\n",
       "      <td>0.359681</td>\n",
       "      <td>3.609359</td>\n",
       "      <td>3.819401</td>\n",
       "      <td>2.403583</td>\n",
       "      <td>1.092272</td>\n",
       "      <td>-0.608327</td>\n",
       "      <td>1.695725</td>\n",
       "      <td>-1.984964</td>\n",
       "    </tr>\n",
       "    <tr>\n",
       "      <th>C1</th>\n",
       "      <td>10.708415</td>\n",
       "      <td>-5.777905</td>\n",
       "      <td>-4.723431</td>\n",
       "      <td>0.803856</td>\n",
       "      <td>-6.236210</td>\n",
       "      <td>0.495566</td>\n",
       "      <td>1.099980</td>\n",
       "      <td>2.172377</td>\n",
       "      <td>3.017235</td>\n",
       "      <td>-1.196119</td>\n",
       "      <td>...</td>\n",
       "      <td>2.178965</td>\n",
       "      <td>3.118207</td>\n",
       "      <td>1.886971</td>\n",
       "      <td>3.914361</td>\n",
       "      <td>4.348190</td>\n",
       "      <td>3.139670</td>\n",
       "      <td>0.215174</td>\n",
       "      <td>-0.739603</td>\n",
       "      <td>2.312843</td>\n",
       "      <td>-2.266522</td>\n",
       "    </tr>\n",
       "  </tbody>\n",
       "</table>\n",
       "<p>5 rows × 81 columns</p>\n",
       "</div>"
      ],
      "text/plain": [
       "         1001      1003      1004      1006      1007      1010      1012  \\\n",
       "A1  10.420753 -4.931614 -6.004500  1.020800 -6.907026  0.010804  0.767327   \n",
       "A2  10.029803 -6.648713 -6.930798 -0.166377 -7.378364  0.097552  0.091080   \n",
       "B1  10.999528 -4.828735 -5.298303  1.518215 -6.276227  1.112556  1.933984   \n",
       "B2  10.646720 -5.574027 -6.365360  0.909347 -7.032869  0.892130  1.614273   \n",
       "C1  10.708415 -5.777905 -4.723431  0.803856 -6.236210  0.495566  1.099980   \n",
       "\n",
       "        1014      1015      1016  ...       299       301       302       303  \\\n",
       "A1  2.669532  3.557212 -1.827517  ...  0.623491  2.509283  0.253886  3.219520   \n",
       "A2  2.163354  3.025933 -2.208191  ...  0.772386  2.292860  0.609074  2.997777   \n",
       "B1  3.340932  4.319857 -1.486664  ...  1.185538  2.537640  0.721641  3.833265   \n",
       "B2  3.192027  4.276430 -1.907378  ...  0.916235  2.221327  0.359681  3.609359   \n",
       "C1  2.172377  3.017235 -1.196119  ...  2.178965  3.118207  1.886971  3.914361   \n",
       "\n",
       "         305       306       308       328       331       346  \n",
       "A1  3.715341  2.516973 -0.655629 -1.366619  1.653326 -3.889950  \n",
       "A2  3.321205  2.365288 -1.005312 -2.153061  1.553563 -4.294621  \n",
       "B1  4.209246  2.785194  1.595900  0.226684  1.879187 -1.331815  \n",
       "B2  3.819401  2.403583  1.092272 -0.608327  1.695725 -1.984964  \n",
       "C1  4.348190  3.139670  0.215174 -0.739603  2.312843 -2.266522  \n",
       "\n",
       "[5 rows x 81 columns]"
      ]
     },
     "execution_count": 8,
     "metadata": {},
     "output_type": "execute_result"
    }
   ],
   "source": [
    "cadrres_cluster_df.head()"
   ]
  },
  {
   "cell_type": "code",
   "execution_count": 9,
   "metadata": {
    "ExecuteTime": {
     "end_time": "2020-11-19T00:51:12.523384Z",
     "start_time": "2020-11-19T00:51:12.518389Z"
    }
   },
   "outputs": [
    {
     "name": "stdout",
     "output_type": "stream",
     "text": [
      "81 24\n"
     ]
    }
   ],
   "source": [
    "drug_list = drug_info_df.index\n",
    "cluster_list = cadrres_cluster_df.index\n",
    "print(len(drug_list), len(cluster_list))\n",
    "\n",
    "drug_info_df = drug_info_df.loc[drug_list]\n",
    "cadrres_cluster_df = cadrres_cluster_df[drug_list]"
   ]
  },
  {
   "cell_type": "code",
   "execution_count": 10,
   "metadata": {
    "ExecuteTime": {
     "end_time": "2020-11-19T00:51:13.061468Z",
     "start_time": "2020-11-19T00:51:13.059050Z"
    }
   },
   "outputs": [],
   "source": [
    "if dosage_shifted:\n",
    "    # Shift by 4 uM\n",
    "    cadrres_cluster_df = cadrres_cluster_df - 2"
   ]
  },
  {
   "cell_type": "markdown",
   "metadata": {},
   "source": [
    "##### Read cell cluster % in each patient"
   ]
  },
  {
   "cell_type": "code",
   "execution_count": 11,
   "metadata": {
    "ExecuteTime": {
     "end_time": "2020-11-19T00:51:13.966352Z",
     "start_time": "2020-11-19T00:51:13.915041Z"
    }
   },
   "outputs": [
    {
     "data": {
      "text/html": [
       "<div>\n",
       "<style scoped>\n",
       "    .dataframe tbody tr th:only-of-type {\n",
       "        vertical-align: middle;\n",
       "    }\n",
       "\n",
       "    .dataframe tbody tr th {\n",
       "        vertical-align: top;\n",
       "    }\n",
       "\n",
       "    .dataframe thead th {\n",
       "        text-align: right;\n",
       "    }\n",
       "</style>\n",
       "<table border=\"1\" class=\"dataframe\">\n",
       "  <thead>\n",
       "    <tr style=\"text-align: right;\">\n",
       "      <th>cluster</th>\n",
       "      <th>A1</th>\n",
       "      <th>A2</th>\n",
       "      <th>B1</th>\n",
       "      <th>B2</th>\n",
       "      <th>C1</th>\n",
       "      <th>C2</th>\n",
       "      <th>D1</th>\n",
       "      <th>D2</th>\n",
       "      <th>E1</th>\n",
       "      <th>E2</th>\n",
       "      <th>...</th>\n",
       "      <th>F3</th>\n",
       "      <th>G1</th>\n",
       "      <th>G2</th>\n",
       "      <th>H1</th>\n",
       "      <th>I1</th>\n",
       "      <th>I2</th>\n",
       "      <th>J1</th>\n",
       "      <th>J2</th>\n",
       "      <th>K1</th>\n",
       "      <th>L</th>\n",
       "    </tr>\n",
       "    <tr>\n",
       "      <th>patient_id</th>\n",
       "      <th></th>\n",
       "      <th></th>\n",
       "      <th></th>\n",
       "      <th></th>\n",
       "      <th></th>\n",
       "      <th></th>\n",
       "      <th></th>\n",
       "      <th></th>\n",
       "      <th></th>\n",
       "      <th></th>\n",
       "      <th></th>\n",
       "      <th></th>\n",
       "      <th></th>\n",
       "      <th></th>\n",
       "      <th></th>\n",
       "      <th></th>\n",
       "      <th></th>\n",
       "      <th></th>\n",
       "      <th></th>\n",
       "      <th></th>\n",
       "      <th></th>\n",
       "    </tr>\n",
       "  </thead>\n",
       "  <tbody>\n",
       "    <tr>\n",
       "      <th>HN120</th>\n",
       "      <td>0.010989</td>\n",
       "      <td>0.005495</td>\n",
       "      <td>0.000000</td>\n",
       "      <td>0.000000</td>\n",
       "      <td>0.000000</td>\n",
       "      <td>0.000000</td>\n",
       "      <td>0.313187</td>\n",
       "      <td>0.175824</td>\n",
       "      <td>0.000000</td>\n",
       "      <td>0.000000</td>\n",
       "      <td>...</td>\n",
       "      <td>0.000000</td>\n",
       "      <td>0.340659</td>\n",
       "      <td>0.120879</td>\n",
       "      <td>0.000000</td>\n",
       "      <td>0.000000</td>\n",
       "      <td>0.000000</td>\n",
       "      <td>0.0</td>\n",
       "      <td>0.0</td>\n",
       "      <td>0.00000</td>\n",
       "      <td>0.032967</td>\n",
       "    </tr>\n",
       "    <tr>\n",
       "      <th>HN137</th>\n",
       "      <td>0.000000</td>\n",
       "      <td>0.000000</td>\n",
       "      <td>0.000000</td>\n",
       "      <td>0.000000</td>\n",
       "      <td>0.000000</td>\n",
       "      <td>0.000000</td>\n",
       "      <td>0.005682</td>\n",
       "      <td>0.000000</td>\n",
       "      <td>0.340909</td>\n",
       "      <td>0.085227</td>\n",
       "      <td>...</td>\n",
       "      <td>0.096591</td>\n",
       "      <td>0.000000</td>\n",
       "      <td>0.000000</td>\n",
       "      <td>0.000000</td>\n",
       "      <td>0.000000</td>\n",
       "      <td>0.000000</td>\n",
       "      <td>0.0</td>\n",
       "      <td>0.0</td>\n",
       "      <td>0.00000</td>\n",
       "      <td>0.011364</td>\n",
       "    </tr>\n",
       "    <tr>\n",
       "      <th>HN148</th>\n",
       "      <td>0.000000</td>\n",
       "      <td>0.000000</td>\n",
       "      <td>0.000000</td>\n",
       "      <td>0.000000</td>\n",
       "      <td>0.313514</td>\n",
       "      <td>0.205405</td>\n",
       "      <td>0.000000</td>\n",
       "      <td>0.000000</td>\n",
       "      <td>0.000000</td>\n",
       "      <td>0.000000</td>\n",
       "      <td>...</td>\n",
       "      <td>0.000000</td>\n",
       "      <td>0.000000</td>\n",
       "      <td>0.000000</td>\n",
       "      <td>0.459459</td>\n",
       "      <td>0.000000</td>\n",
       "      <td>0.000000</td>\n",
       "      <td>0.0</td>\n",
       "      <td>0.0</td>\n",
       "      <td>0.00000</td>\n",
       "      <td>0.021622</td>\n",
       "    </tr>\n",
       "    <tr>\n",
       "      <th>HN159</th>\n",
       "      <td>0.000000</td>\n",
       "      <td>0.000000</td>\n",
       "      <td>0.000000</td>\n",
       "      <td>0.000000</td>\n",
       "      <td>0.000000</td>\n",
       "      <td>0.000000</td>\n",
       "      <td>0.000000</td>\n",
       "      <td>0.000000</td>\n",
       "      <td>0.000000</td>\n",
       "      <td>0.000000</td>\n",
       "      <td>...</td>\n",
       "      <td>0.000000</td>\n",
       "      <td>0.000000</td>\n",
       "      <td>0.000000</td>\n",
       "      <td>0.000000</td>\n",
       "      <td>0.317365</td>\n",
       "      <td>0.185629</td>\n",
       "      <td>0.0</td>\n",
       "      <td>0.0</td>\n",
       "      <td>0.48503</td>\n",
       "      <td>0.011976</td>\n",
       "    </tr>\n",
       "    <tr>\n",
       "      <th>HN160</th>\n",
       "      <td>0.000000</td>\n",
       "      <td>0.000000</td>\n",
       "      <td>0.422222</td>\n",
       "      <td>0.414815</td>\n",
       "      <td>0.000000</td>\n",
       "      <td>0.000000</td>\n",
       "      <td>0.000000</td>\n",
       "      <td>0.000000</td>\n",
       "      <td>0.000000</td>\n",
       "      <td>0.000000</td>\n",
       "      <td>...</td>\n",
       "      <td>0.000000</td>\n",
       "      <td>0.000000</td>\n",
       "      <td>0.000000</td>\n",
       "      <td>0.000000</td>\n",
       "      <td>0.000000</td>\n",
       "      <td>0.000000</td>\n",
       "      <td>0.0</td>\n",
       "      <td>0.0</td>\n",
       "      <td>0.00000</td>\n",
       "      <td>0.162963</td>\n",
       "    </tr>\n",
       "  </tbody>\n",
       "</table>\n",
       "<p>5 rows × 23 columns</p>\n",
       "</div>"
      ],
      "text/plain": [
       "cluster           A1        A2        B1        B2        C1        C2  \\\n",
       "patient_id                                                               \n",
       "HN120       0.010989  0.005495  0.000000  0.000000  0.000000  0.000000   \n",
       "HN137       0.000000  0.000000  0.000000  0.000000  0.000000  0.000000   \n",
       "HN148       0.000000  0.000000  0.000000  0.000000  0.313514  0.205405   \n",
       "HN159       0.000000  0.000000  0.000000  0.000000  0.000000  0.000000   \n",
       "HN160       0.000000  0.000000  0.422222  0.414815  0.000000  0.000000   \n",
       "\n",
       "cluster           D1        D2        E1        E2  ...        F3        G1  \\\n",
       "patient_id                                          ...                       \n",
       "HN120       0.313187  0.175824  0.000000  0.000000  ...  0.000000  0.340659   \n",
       "HN137       0.005682  0.000000  0.340909  0.085227  ...  0.096591  0.000000   \n",
       "HN148       0.000000  0.000000  0.000000  0.000000  ...  0.000000  0.000000   \n",
       "HN159       0.000000  0.000000  0.000000  0.000000  ...  0.000000  0.000000   \n",
       "HN160       0.000000  0.000000  0.000000  0.000000  ...  0.000000  0.000000   \n",
       "\n",
       "cluster           G2        H1        I1        I2   J1   J2       K1  \\\n",
       "patient_id                                                              \n",
       "HN120       0.120879  0.000000  0.000000  0.000000  0.0  0.0  0.00000   \n",
       "HN137       0.000000  0.000000  0.000000  0.000000  0.0  0.0  0.00000   \n",
       "HN148       0.000000  0.459459  0.000000  0.000000  0.0  0.0  0.00000   \n",
       "HN159       0.000000  0.000000  0.317365  0.185629  0.0  0.0  0.48503   \n",
       "HN160       0.000000  0.000000  0.000000  0.000000  0.0  0.0  0.00000   \n",
       "\n",
       "cluster            L  \n",
       "patient_id            \n",
       "HN120       0.032967  \n",
       "HN137       0.011364  \n",
       "HN148       0.021622  \n",
       "HN159       0.011976  \n",
       "HN160       0.162963  \n",
       "\n",
       "[5 rows x 23 columns]"
      ]
     },
     "execution_count": 11,
     "metadata": {},
     "output_type": "execute_result"
    }
   ],
   "source": [
    "freq_df = pd.read_excel('../preprocessed_data/HN_patient_specific/percent_patient_tpm_cluster.xlsx', index_col=[0, 1]).reset_index()\n",
    "freq_df = freq_df.pivot(index='patient_id', columns='cluster', values='percent').fillna(0) / 100\n",
    "\n",
    "patient_list = freq_df.index\n",
    "\n",
    "freq_df.head()"
   ]
  },
  {
   "cell_type": "markdown",
   "metadata": {},
   "source": [
    "##### List all pairs of patient and drug"
   ]
  },
  {
   "cell_type": "code",
   "execution_count": 12,
   "metadata": {
    "ExecuteTime": {
     "end_time": "2020-11-19T00:51:16.732471Z",
     "start_time": "2020-11-19T00:51:16.687269Z"
    },
    "code_folding": []
   },
   "outputs": [],
   "source": [
    "pred_delta_df = pd.DataFrame(cadrres_cluster_df.values - drug_info_df[ref_type].values, columns=drug_list, index=cluster_list)\n",
    "pred_cv_df = 100 / (1 + (np.power(2, -pred_delta_df)))\n",
    "pred_kill_df = 100 - pred_cv_df\n",
    "\n",
    "rows = []\n",
    "for p in patient_list:\n",
    "    c_list = freq_df.loc[p][freq_df.loc[p] >= freq_cutoff].index.values\n",
    "    freqs = freq_df.loc[p][freq_df.loc[p] >= freq_cutoff].values\n",
    "\n",
    "    ##### freq sum to 1 (not in use) #####\n",
    "    # freqs = freqs / np.sum(freqs)\n",
    "\n",
    "    p_pred_delta_weighted = np.matmul(pred_delta_df.loc[c_list].values.T, freqs)\n",
    "    p_pred_delta_mat = pred_delta_df.loc[c_list].values\n",
    "    \n",
    "    p_pred_kill_weighted = np.matmul(pred_kill_df.loc[c_list].values.T, freqs)\n",
    "    p_pred_kill_mat = pred_kill_df.loc[c_list].values\n",
    "\n",
    "    for d_i, d_id in enumerate(drug_list):\n",
    "        rows += [[p, d_id] + ['|'.join(c_list)] + ['|'.join([\"{:.14}\".format(f) for f in freqs])] + \n",
    "                 ['|'.join([\"{:.14}\".format(f) for f in p_pred_delta_mat[:, d_i]])] + \n",
    "                 [\"{:.14}\".format(p_pred_delta_weighted[d_i])] +\n",
    "                 ['|'.join([\"{:.14}\".format(f) for f in p_pred_kill_mat[:, d_i]])] + \n",
    "                 [\"{:.14}\".format(p_pred_kill_weighted[d_i])]\n",
    "                ]"
   ]
  },
  {
   "cell_type": "code",
   "execution_count": 13,
   "metadata": {
    "ExecuteTime": {
     "end_time": "2020-11-19T00:51:17.488490Z",
     "start_time": "2020-11-19T00:51:17.472728Z"
    }
   },
   "outputs": [
    {
     "data": {
      "text/html": [
       "<div>\n",
       "<style scoped>\n",
       "    .dataframe tbody tr th:only-of-type {\n",
       "        vertical-align: middle;\n",
       "    }\n",
       "\n",
       "    .dataframe tbody tr th {\n",
       "        vertical-align: top;\n",
       "    }\n",
       "\n",
       "    .dataframe thead th {\n",
       "        text-align: right;\n",
       "    }\n",
       "</style>\n",
       "<table border=\"1\" class=\"dataframe\">\n",
       "  <thead>\n",
       "    <tr style=\"text-align: right;\">\n",
       "      <th></th>\n",
       "      <th>patient</th>\n",
       "      <th>drug_id</th>\n",
       "      <th>cluster</th>\n",
       "      <th>cluster_p</th>\n",
       "      <th>cluster_delta</th>\n",
       "      <th>delta</th>\n",
       "      <th>cluster_kill</th>\n",
       "      <th>kill</th>\n",
       "    </tr>\n",
       "  </thead>\n",
       "  <tbody>\n",
       "    <tr>\n",
       "      <th>0</th>\n",
       "      <td>HN120</td>\n",
       "      <td>1001</td>\n",
       "      <td>D1|D2|G1|G2</td>\n",
       "      <td>0.31318681318681|0.17582417582418|0.3406593406...</td>\n",
       "      <td>0.97886227658824|0.85126533199626|0.8324244987...</td>\n",
       "      <td>0.83415414397391</td>\n",
       "      <td>33.659714568654|35.662288537193|35.96248678207...</td>\n",
       "      <td>33.510912108776</td>\n",
       "    </tr>\n",
       "    <tr>\n",
       "      <th>1</th>\n",
       "      <td>HN120</td>\n",
       "      <td>1003</td>\n",
       "      <td>D1|D2|G1|G2</td>\n",
       "      <td>0.31318681318681|0.17582417582418|0.3406593406...</td>\n",
       "      <td>1.201525430967|1.2213483950695|1.7510220758333...</td>\n",
       "      <td>1.3523171038281</td>\n",
       "      <td>30.304617687459|30.015199140281|22.90442054356...</td>\n",
       "      <td>25.954725903113</td>\n",
       "    </tr>\n",
       "    <tr>\n",
       "      <th>2</th>\n",
       "      <td>HN120</td>\n",
       "      <td>1004</td>\n",
       "      <td>D1|D2|G1|G2</td>\n",
       "      <td>0.31318681318681|0.17582417582418|0.3406593406...</td>\n",
       "      <td>1.3994447964209|1.122611275271|1.7370480948823...</td>\n",
       "      <td>1.4123186054551</td>\n",
       "      <td>27.487627363317|31.472200982455|23.07590797174...</td>\n",
       "      <td>25.113006747586</td>\n",
       "    </tr>\n",
       "    <tr>\n",
       "      <th>3</th>\n",
       "      <td>HN120</td>\n",
       "      <td>1006</td>\n",
       "      <td>D1|D2|G1|G2</td>\n",
       "      <td>0.31318681318681|0.17582417582418|0.3406593406...</td>\n",
       "      <td>0.95692434487753|1.0291964548272|2.06647006019...</td>\n",
       "      <td>1.3661156656751</td>\n",
       "      <td>34.000107841096|32.885139449453|19.27300067146...</td>\n",
       "      <td>26.150905313026</td>\n",
       "    </tr>\n",
       "    <tr>\n",
       "      <th>4</th>\n",
       "      <td>HN120</td>\n",
       "      <td>1007</td>\n",
       "      <td>D1|D2|G1|G2</td>\n",
       "      <td>0.31318681318681|0.17582417582418|0.3406593406...</td>\n",
       "      <td>3.1869156780876|2.7761284650153|4.173928870489...</td>\n",
       "      <td>3.373717068682</td>\n",
       "      <td>9.8945048311346|12.738664907768|5.249337148951...</td>\n",
       "      <td>7.9097567173705</td>\n",
       "    </tr>\n",
       "  </tbody>\n",
       "</table>\n",
       "</div>"
      ],
      "text/plain": [
       "  patient drug_id      cluster  \\\n",
       "0   HN120    1001  D1|D2|G1|G2   \n",
       "1   HN120    1003  D1|D2|G1|G2   \n",
       "2   HN120    1004  D1|D2|G1|G2   \n",
       "3   HN120    1006  D1|D2|G1|G2   \n",
       "4   HN120    1007  D1|D2|G1|G2   \n",
       "\n",
       "                                           cluster_p  \\\n",
       "0  0.31318681318681|0.17582417582418|0.3406593406...   \n",
       "1  0.31318681318681|0.17582417582418|0.3406593406...   \n",
       "2  0.31318681318681|0.17582417582418|0.3406593406...   \n",
       "3  0.31318681318681|0.17582417582418|0.3406593406...   \n",
       "4  0.31318681318681|0.17582417582418|0.3406593406...   \n",
       "\n",
       "                                       cluster_delta             delta  \\\n",
       "0  0.97886227658824|0.85126533199626|0.8324244987...  0.83415414397391   \n",
       "1  1.201525430967|1.2213483950695|1.7510220758333...   1.3523171038281   \n",
       "2  1.3994447964209|1.122611275271|1.7370480948823...   1.4123186054551   \n",
       "3  0.95692434487753|1.0291964548272|2.06647006019...   1.3661156656751   \n",
       "4  3.1869156780876|2.7761284650153|4.173928870489...    3.373717068682   \n",
       "\n",
       "                                        cluster_kill             kill  \n",
       "0  33.659714568654|35.662288537193|35.96248678207...  33.510912108776  \n",
       "1  30.304617687459|30.015199140281|22.90442054356...  25.954725903113  \n",
       "2  27.487627363317|31.472200982455|23.07590797174...  25.113006747586  \n",
       "3  34.000107841096|32.885139449453|19.27300067146...  26.150905313026  \n",
       "4  9.8945048311346|12.738664907768|5.249337148951...  7.9097567173705  "
      ]
     },
     "execution_count": 13,
     "metadata": {},
     "output_type": "execute_result"
    }
   ],
   "source": [
    "single_drug_pred_df = pd.DataFrame(rows, columns=['patient', 'drug_id', 'cluster', 'cluster_p', 'cluster_delta', 'delta', 'cluster_kill', 'kill'])\n",
    "single_drug_pred_df = single_drug_pred_df[['patient', 'drug_id', 'cluster', 'cluster_p', 'cluster_delta', 'delta', 'cluster_kill', 'kill']]\n",
    "single_drug_pred_df.head()"
   ]
  },
  {
   "cell_type": "code",
   "execution_count": 14,
   "metadata": {
    "ExecuteTime": {
     "end_time": "2020-11-19T00:51:19.349319Z",
     "start_time": "2020-11-19T00:51:19.342581Z"
    }
   },
   "outputs": [],
   "source": [
    "single_drug_pred_df.loc[:, 'drug_name'] = [drug_id_name_dict[d] for d in single_drug_pred_df['drug_id'].values]"
   ]
  },
  {
   "cell_type": "code",
   "execution_count": 15,
   "metadata": {
    "ExecuteTime": {
     "end_time": "2020-11-19T00:51:21.555220Z",
     "start_time": "2020-11-19T00:51:20.981387Z"
    }
   },
   "outputs": [
    {
     "data": {
      "text/plain": [
       "<matplotlib.axes._subplots.AxesSubplot at 0x7f4d63c836d0>"
      ]
     },
     "execution_count": 15,
     "metadata": {},
     "output_type": "execute_result"
    },
    {
     "data": {
      "image/png": "[encoded data removed]",
      "text/plain": [
       "<Figure size 1800x1200 with 2 Axes>"
      ]
     },
     "metadata": {
      "needs_background": "light"
     },
     "output_type": "display_data"
    }
   ],
   "source": [
    "single_drug_id_list = ['1007', '133', '201', '1010', '182', '301', '302', '1012']\n",
    "single_drug_list = ['Docetaxel', 'Doxorubicin', 'Epothilone B', 'Gefitinib', 'Obatoclax Mesylate', 'PHA-793887', 'PI-103', 'Vorinostat']\n",
    "\n",
    "temp_df = (freq_df.loc[freq_df.index != 'HN182'] >= freq_cutoff).sum()\n",
    "selected_clusters = temp_df.index[temp_df > 0]\n",
    "\n",
    "cmap = plt.cm.get_cmap('bone_r', 10)\n",
    "selected_kill_df = pred_kill_df.loc[selected_clusters, single_drug_id_list]\n",
    "selected_kill_df.columns = single_drug_list\n",
    "selected_kill_df = selected_kill_df[selected_kill_df.sum().sort_values(ascending=False).index]\n",
    "\n",
    "sns.heatmap(selected_kill_df.T, cmap=cmap, vmin=0, vmax=100, linewidth=0.5)"
   ]
  },
  {
   "cell_type": "code",
   "execution_count": 16,
   "metadata": {
    "ExecuteTime": {
     "end_time": "2020-11-19T00:51:36.560919Z",
     "start_time": "2020-11-19T00:51:36.545616Z"
    }
   },
   "outputs": [
    {
     "data": {
      "text/html": [
       "<div>\n",
       "<style scoped>\n",
       "    .dataframe tbody tr th:only-of-type {\n",
       "        vertical-align: middle;\n",
       "    }\n",
       "\n",
       "    .dataframe tbody tr th {\n",
       "        vertical-align: top;\n",
       "    }\n",
       "\n",
       "    .dataframe thead th {\n",
       "        text-align: right;\n",
       "    }\n",
       "</style>\n",
       "<table border=\"1\" class=\"dataframe\">\n",
       "  <thead>\n",
       "    <tr style=\"text-align: right;\">\n",
       "      <th></th>\n",
       "      <th>Drug ID</th>\n",
       "      <th>log2_median_ic50_hn</th>\n",
       "    </tr>\n",
       "  </thead>\n",
       "  <tbody>\n",
       "    <tr>\n",
       "      <th>PI-103</th>\n",
       "      <td>302</td>\n",
       "      <td>3.056464</td>\n",
       "    </tr>\n",
       "    <tr>\n",
       "      <th>PHA-793887</th>\n",
       "      <td>301</td>\n",
       "      <td>3.606539</td>\n",
       "    </tr>\n",
       "    <tr>\n",
       "      <th>Doxorubicin</th>\n",
       "      <td>133</td>\n",
       "      <td>-2.812230</td>\n",
       "    </tr>\n",
       "    <tr>\n",
       "      <th>Obatoclax Mesylate</th>\n",
       "      <td>182</td>\n",
       "      <td>-2.958665</td>\n",
       "    </tr>\n",
       "    <tr>\n",
       "      <th>Vorinostat</th>\n",
       "      <td>1012</td>\n",
       "      <td>0.711127</td>\n",
       "    </tr>\n",
       "    <tr>\n",
       "      <th>Epothilone B</th>\n",
       "      <td>201</td>\n",
       "      <td>-8.520806</td>\n",
       "    </tr>\n",
       "    <tr>\n",
       "      <th>Gefitinib</th>\n",
       "      <td>1010</td>\n",
       "      <td>-1.374969</td>\n",
       "    </tr>\n",
       "    <tr>\n",
       "      <th>Docetaxel</th>\n",
       "      <td>1007</td>\n",
       "      <td>-9.792998</td>\n",
       "    </tr>\n",
       "  </tbody>\n",
       "</table>\n",
       "</div>"
      ],
      "text/plain": [
       "                   Drug ID  log2_median_ic50_hn\n",
       "PI-103                 302             3.056464\n",
       "PHA-793887             301             3.606539\n",
       "Doxorubicin            133            -2.812230\n",
       "Obatoclax Mesylate     182            -2.958665\n",
       "Vorinostat            1012             0.711127\n",
       "Epothilone B           201            -8.520806\n",
       "Gefitinib             1010            -1.374969\n",
       "Docetaxel             1007            -9.792998"
      ]
     },
     "execution_count": 16,
     "metadata": {},
     "output_type": "execute_result"
    }
   ],
   "source": [
    "log2_median_ic50_df = drug_info_df.loc[single_drug_id_list][['Drug Name', ref_type]].reset_index().set_index('Drug Name')\n",
    "log2_median_ic50_df.loc[selected_kill_df.sum().sort_values(ascending=False).index]"
   ]
  },
  {
   "cell_type": "code",
   "execution_count": 17,
   "metadata": {
    "ExecuteTime": {
     "end_time": "2020-11-19T00:51:41.729222Z",
     "start_time": "2020-11-19T00:51:41.723036Z"
    }
   },
   "outputs": [
    {
     "name": "stdout",
     "output_type": "stream",
     "text": [
      "log2_median_ic50_hn\n",
      "8.319312\n",
      "12.180817\n",
      "0.142375\n",
      "0.128633\n",
      "1.637083\n",
      "0.002723\n",
      "0.385561\n",
      "0.001127\n"
     ]
    }
   ],
   "source": [
    "print (ref_type)\n",
    "log2_median_ic50s = log2_median_ic50_df.loc[selected_kill_df.sum().sort_values(ascending=False).index][ref_type].values\n",
    "median_ic50s = np.power(2, log2_median_ic50s)\n",
    "\n",
    "for x in median_ic50s:\n",
    "    print ('{:f}'.format(x))\n"
   ]
  },
  {
   "cell_type": "code",
   "execution_count": 18,
   "metadata": {
    "ExecuteTime": {
     "end_time": "2020-11-19T00:51:42.476409Z",
     "start_time": "2020-11-19T00:51:42.469543Z"
    }
   },
   "outputs": [],
   "source": [
    "temp_df = freq_df.loc[freq_df.index != 'HN182'].stack().reset_index()\n",
    "temp_df = temp_df[temp_df[0] >= freq_cutoff]\n",
    "patient_cluster_dict = dict(zip(temp_df['cluster'], temp_df['patient_id']))"
   ]
  },
  {
   "cell_type": "code",
   "execution_count": 19,
   "metadata": {
    "ExecuteTime": {
     "end_time": "2020-11-19T00:51:42.989387Z",
     "start_time": "2020-11-19T00:51:42.984796Z"
    }
   },
   "outputs": [],
   "source": [
    "patient_list = sorted(list(set(temp_df['patient_id'])))\n",
    "cluster_list = temp_df['cluster'].values\n",
    "\n",
    "cmap = plt.cm.get_cmap('tab10', 10)\n",
    "patient_color_dict = dict(zip(patient_list, [cmap(c) for c in range(len(patient_list))]))"
   ]
  },
  {
   "cell_type": "code",
   "execution_count": 20,
   "metadata": {
    "ExecuteTime": {
     "end_time": "2020-11-19T00:51:43.318191Z",
     "start_time": "2020-11-19T00:51:43.314559Z"
    }
   },
   "outputs": [
    {
     "data": {
      "text/plain": [
       "['HN120', 'HN137', 'HN148', 'HN159', 'HN160']"
      ]
     },
     "execution_count": 20,
     "metadata": {},
     "output_type": "execute_result"
    }
   ],
   "source": [
    "patient_list"
   ]
  },
  {
   "cell_type": "code",
   "execution_count": 21,
   "metadata": {
    "ExecuteTime": {
     "end_time": "2020-11-19T00:51:43.759852Z",
     "start_time": "2020-11-19T00:51:43.757061Z"
    }
   },
   "outputs": [],
   "source": [
    "col_colors = [patient_color_dict[patient_cluster_dict[c]] for c in cluster_list]"
   ]
  },
  {
   "cell_type": "code",
   "execution_count": 22,
   "metadata": {
    "ExecuteTime": {
     "end_time": "2020-11-19T00:51:47.513213Z",
     "start_time": "2020-11-19T00:51:46.561663Z"
    }
   },
   "outputs": [
    {
     "data": {
      "image/png": "[encoded data removed]",
      "text/plain": [
       "<Figure size 2400x1650 with 5 Axes>"
      ]
     },
     "metadata": {
      "needs_background": "light"
     },
     "output_type": "display_data"
    }
   ],
   "source": [
    "cmap = plt.cm.get_cmap('bone_r', 11)\n",
    "cg = sns.clustermap(selected_kill_df.T[cluster_list], cmap=cmap, vmin=-10, vmax=100, linewidth=0.5, row_cluster=False, col_cluster=False, col_colors=col_colors, figsize=(8,5.5))\n",
    "\n",
    "_ = cg.ax_heatmap.set_xlabel('Cluster ID')\n",
    "plt.tight_layout()\n",
    "# _ = cg.cax.set_visible(False)\n",
    "\n",
    "# cg.savefig('../figure/Fig4A_heatmap_cluster_pred.svg')"
   ]
  },
  {
   "cell_type": "markdown",
   "metadata": {},
   "source": [
    "Save results"
   ]
  },
  {
   "cell_type": "code",
   "execution_count": 23,
   "metadata": {
    "ExecuteTime": {
     "end_time": "2020-11-19T00:51:53.852237Z",
     "start_time": "2020-11-19T00:51:53.831471Z"
    }
   },
   "outputs": [],
   "source": [
    "if dosage_shifted:\n",
    "    single_drug_pred_df.to_csv(out_dir + 'pred_drug_kill_{}_{}_shifted.csv'.format(ref_type, model_name), index=False)\n",
    "else:\n",
    "    single_drug_pred_df.to_csv(out_dir + 'pred_drug_kill_{}_{}.csv'.format(ref_type, model_name), index=False)"
   ]
  },
  {
   "cell_type": "code",
   "execution_count": null,
   "metadata": {},
   "outputs": [],
   "source": []
  }
 ],
 "metadata": {
  "kernelspec": {
   "display_name": "Python 3",
   "language": "python",
   "name": "python3"
  },
  "language_info": {
   "codemirror_mode": {
    "name": "ipython",
    "version": 3
   },
   "file_extension": ".py",
   "mimetype": "text/x-python",
   "name": "python",
   "nbconvert_exporter": "python",
   "pygments_lexer": "ipython3",
   "version": "3.7.7"
  },
  "toc": {
   "base_numbering": 1,
   "nav_menu": {},
   "number_sections": false,
   "sideBar": true,
   "skip_h1_title": false,
   "title_cell": "Table of Contents",
   "title_sidebar": "Contents",
   "toc_cell": false,
   "toc_position": {
    "height": "calc(100% - 180px)",
    "left": "10px",
    "top": "150px",
    "width": "175.531px"
   },
   "toc_section_display": true,
   "toc_window_display": false
  }
 },
 "nbformat": 4,
 "nbformat_minor": 2
}
