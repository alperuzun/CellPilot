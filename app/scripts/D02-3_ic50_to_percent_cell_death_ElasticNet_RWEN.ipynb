{
 "cells": [
  {
   "cell_type": "code",
   "execution_count": 9,
   "metadata": {
    "ExecuteTime": {
     "end_time": "2020-11-17T13:25:27.155014Z",
     "start_time": "2020-11-17T13:25:27.141578Z"
    }
   },
   "outputs": [],
   "source": [
    "import os\n",
    "import pandas as pd\n",
    "import numpy as np\n",
    "np.set_printoptions(precision=2)\n",
    "\n",
    "import matplotlib.pyplot as plt\n",
    "import seaborn as sns\n",
    "from scipy import stats\n",
    "from collections import Counter\n",
    "\n",
    "sns.set_style('ticks')\n",
    "\n",
    "%matplotlib inline\n",
    "import warnings\n",
    "warnings.filterwarnings('ignore')\n",
    "import matplotlib as mpl\n",
    "mpl.rcParams['figure.dpi']= 300\n",
    "mpl.rc(\"savefig\", dpi=300)"
   ]
  },
  {
   "cell_type": "markdown",
   "metadata": {},
   "source": [
    "##### Read files and select drugs"
   ]
  },
  {
   "cell_type": "code",
   "execution_count": 10,
   "metadata": {
    "ExecuteTime": {
     "end_time": "2020-11-17T13:25:27.159148Z",
     "start_time": "2020-11-17T13:25:27.156592Z"
    }
   },
   "outputs": [],
   "source": [
    "ref_type = 'log2_median_ic50_hn' # log2_median_ic50_3f_hn | log2_median_ic50_hn\n",
    "model_name = 'RWEN' \n",
    "\n",
    "# for each patient, if cell cluster is less than 5%, then we don't consider that cluster \n",
    "freq_cutoff = 0.05\n",
    "\n",
    "# shift the dosage as GDSC experiment (Syto60) is less sensitive\n",
    "dosage_shifted = False"
   ]
  },
  {
   "cell_type": "code",
   "execution_count": 11,
   "metadata": {
    "ExecuteTime": {
     "end_time": "2020-11-17T13:25:27.171741Z",
     "start_time": "2020-11-17T13:25:27.161549Z"
    }
   },
   "outputs": [
    {
     "name": "stdout",
     "output_type": "stream",
     "text": [
      "(81, 27)\n"
     ]
    }
   ],
   "source": [
    "drug_info_df = pd.read_csv('../preprocessed_data/GDSC/hn_drug_stat.csv', index_col=0)\n",
    "drug_info_df.index = drug_info_df.index.astype(str)\n",
    "\n",
    "drug_id_name_dict = dict(zip(drug_info_df.index, drug_info_df['Drug Name']))\n",
    "print (drug_info_df.shape)"
   ]
  },
  {
   "cell_type": "code",
   "execution_count": 12,
   "metadata": {
    "ExecuteTime": {
     "end_time": "2020-11-17T13:25:27.178800Z",
     "start_time": "2020-11-17T13:25:27.173561Z"
    }
   },
   "outputs": [
    {
     "data": {
      "text/plain": [
       "[]"
      ]
     },
     "execution_count": 12,
     "metadata": {},
     "output_type": "execute_result"
    }
   ],
   "source": [
    "tested_drug_list = [1032, 1007, 133, 201, 1010] + [182, 301, 302]\n",
    "[d for d in tested_drug_list if d not in drug_info_df.index.astype(int)]"
   ]
  },
  {
   "cell_type": "markdown",
   "metadata": {},
   "source": [
    "##### Read predicted IC50"
   ]
  },
  {
   "cell_type": "code",
   "execution_count": 13,
   "metadata": {
    "ExecuteTime": {
     "end_time": "2020-11-17T13:25:27.183204Z",
     "start_time": "2020-11-17T13:25:27.180764Z"
    }
   },
   "outputs": [],
   "source": [
    "norm_type = 'TPM'"
   ]
  },
  {
   "cell_type": "code",
   "execution_count": 14,
   "metadata": {
    "ExecuteTime": {
     "end_time": "2020-11-17T13:25:27.192017Z",
     "start_time": "2020-11-17T13:25:27.184966Z"
    }
   },
   "outputs": [],
   "source": [
    "cadrres_cluster_df = pd.read_csv('../result/HN_model/{}/{}_pred.csv'.format(norm_type, model_name), index_col=0)\n",
    "out_dir = '../result/HN_model/{}/'.format(norm_type)"
   ]
  },
  {
   "cell_type": "code",
   "execution_count": 15,
   "metadata": {
    "ExecuteTime": {
     "end_time": "2020-11-17T13:25:27.206364Z",
     "start_time": "2020-11-17T13:25:27.193869Z"
    }
   },
   "outputs": [
    {
     "data": {
      "text/html": [
       "<div>\n",
       "<style scoped>\n",
       "    .dataframe tbody tr th:only-of-type {\n",
       "        vertical-align: middle;\n",
       "    }\n",
       "\n",
       "    .dataframe tbody tr th {\n",
       "        vertical-align: top;\n",
       "    }\n",
       "\n",
       "    .dataframe thead th {\n",
       "        text-align: right;\n",
       "    }\n",
       "</style>\n",
       "<table border=\"1\" class=\"dataframe\">\n",
       "  <thead>\n",
       "    <tr style=\"text-align: right;\">\n",
       "      <th></th>\n",
       "      <th>1007</th>\n",
       "      <th>133</th>\n",
       "      <th>201</th>\n",
       "      <th>1010</th>\n",
       "      <th>182</th>\n",
       "      <th>301</th>\n",
       "      <th>302</th>\n",
       "      <th>1012</th>\n",
       "    </tr>\n",
       "    <tr>\n",
       "      <th>cluster</th>\n",
       "      <th></th>\n",
       "      <th></th>\n",
       "      <th></th>\n",
       "      <th></th>\n",
       "      <th></th>\n",
       "      <th></th>\n",
       "      <th></th>\n",
       "      <th></th>\n",
       "    </tr>\n",
       "  </thead>\n",
       "  <tbody>\n",
       "    <tr>\n",
       "      <th>A1</th>\n",
       "      <td>-9.408460</td>\n",
       "      <td>-6.029518</td>\n",
       "      <td>-11.469267</td>\n",
       "      <td>2.835190</td>\n",
       "      <td>-4.326052</td>\n",
       "      <td>-2.212837</td>\n",
       "      <td>-2.816472</td>\n",
       "      <td>-0.354483</td>\n",
       "    </tr>\n",
       "    <tr>\n",
       "      <th>A2</th>\n",
       "      <td>-9.454257</td>\n",
       "      <td>-6.286787</td>\n",
       "      <td>-11.783106</td>\n",
       "      <td>1.652145</td>\n",
       "      <td>-3.675764</td>\n",
       "      <td>-2.277713</td>\n",
       "      <td>-4.730575</td>\n",
       "      <td>-0.613253</td>\n",
       "    </tr>\n",
       "    <tr>\n",
       "      <th>B1</th>\n",
       "      <td>-8.610804</td>\n",
       "      <td>-5.822999</td>\n",
       "      <td>-10.011056</td>\n",
       "      <td>3.069076</td>\n",
       "      <td>-0.747959</td>\n",
       "      <td>9.088354</td>\n",
       "      <td>5.539899</td>\n",
       "      <td>-0.177654</td>\n",
       "    </tr>\n",
       "    <tr>\n",
       "      <th>B2</th>\n",
       "      <td>-9.238351</td>\n",
       "      <td>-6.119612</td>\n",
       "      <td>-9.166921</td>\n",
       "      <td>3.319112</td>\n",
       "      <td>-1.294344</td>\n",
       "      <td>2.519170</td>\n",
       "      <td>0.776686</td>\n",
       "      <td>0.146506</td>\n",
       "    </tr>\n",
       "    <tr>\n",
       "      <th>C1</th>\n",
       "      <td>-9.991132</td>\n",
       "      <td>-6.558564</td>\n",
       "      <td>-12.666164</td>\n",
       "      <td>2.232760</td>\n",
       "      <td>-1.774887</td>\n",
       "      <td>4.421201</td>\n",
       "      <td>0.631304</td>\n",
       "      <td>-0.866772</td>\n",
       "    </tr>\n",
       "  </tbody>\n",
       "</table>\n",
       "</div>"
      ],
      "text/plain": [
       "             1007       133        201      1010       182       301  \\\n",
       "cluster                                                                \n",
       "A1      -9.408460 -6.029518 -11.469267  2.835190 -4.326052 -2.212837   \n",
       "A2      -9.454257 -6.286787 -11.783106  1.652145 -3.675764 -2.277713   \n",
       "B1      -8.610804 -5.822999 -10.011056  3.069076 -0.747959  9.088354   \n",
       "B2      -9.238351 -6.119612  -9.166921  3.319112 -1.294344  2.519170   \n",
       "C1      -9.991132 -6.558564 -12.666164  2.232760 -1.774887  4.421201   \n",
       "\n",
       "              302      1012  \n",
       "cluster                      \n",
       "A1      -2.816472 -0.354483  \n",
       "A2      -4.730575 -0.613253  \n",
       "B1       5.539899 -0.177654  \n",
       "B2       0.776686  0.146506  \n",
       "C1       0.631304 -0.866772  "
      ]
     },
     "execution_count": 15,
     "metadata": {},
     "output_type": "execute_result"
    }
   ],
   "source": [
    "cadrres_cluster_df.head()"
   ]
  },
  {
   "cell_type": "code",
   "execution_count": 16,
   "metadata": {
    "ExecuteTime": {
     "end_time": "2020-11-17T13:25:27.215763Z",
     "start_time": "2020-11-17T13:25:27.209348Z"
    }
   },
   "outputs": [
    {
     "name": "stdout",
     "output_type": "stream",
     "text": [
      "8 24\n"
     ]
    }
   ],
   "source": [
    "drug_list = cadrres_cluster_df.columns\n",
    "cluster_list = cadrres_cluster_df.index\n",
    "print(len(drug_list), len(cluster_list))\n",
    "\n",
    "drug_info_df = drug_info_df.loc[drug_list]\n",
    "cadrres_cluster_df = cadrres_cluster_df[drug_list]"
   ]
  },
  {
   "cell_type": "code",
   "execution_count": 17,
   "metadata": {
    "ExecuteTime": {
     "end_time": "2020-11-17T13:25:27.221199Z",
     "start_time": "2020-11-17T13:25:27.218100Z"
    }
   },
   "outputs": [],
   "source": [
    "if dosage_shifted:\n",
    "    # Shift by 4 uM\n",
    "    cadrres_cluster_df = cadrres_cluster_df - 2"
   ]
  },
  {
   "cell_type": "markdown",
   "metadata": {},
   "source": [
    "##### Read cell cluster % in each patient"
   ]
  },
  {
   "cell_type": "code",
   "execution_count": 18,
   "metadata": {
    "ExecuteTime": {
     "end_time": "2020-11-17T13:25:27.271347Z",
     "start_time": "2020-11-17T13:25:27.223321Z"
    }
   },
   "outputs": [
    {
     "data": {
      "text/html": [
       "<div>\n",
       "<style scoped>\n",
       "    .dataframe tbody tr th:only-of-type {\n",
       "        vertical-align: middle;\n",
       "    }\n",
       "\n",
       "    .dataframe tbody tr th {\n",
       "        vertical-align: top;\n",
       "    }\n",
       "\n",
       "    .dataframe thead th {\n",
       "        text-align: right;\n",
       "    }\n",
       "</style>\n",
       "<table border=\"1\" class=\"dataframe\">\n",
       "  <thead>\n",
       "    <tr style=\"text-align: right;\">\n",
       "      <th>cluster</th>\n",
       "      <th>A1</th>\n",
       "      <th>A2</th>\n",
       "      <th>B1</th>\n",
       "      <th>B2</th>\n",
       "      <th>C1</th>\n",
       "      <th>C2</th>\n",
       "      <th>D1</th>\n",
       "      <th>D2</th>\n",
       "      <th>E1</th>\n",
       "      <th>E2</th>\n",
       "      <th>...</th>\n",
       "      <th>F3</th>\n",
       "      <th>G1</th>\n",
       "      <th>G2</th>\n",
       "      <th>H1</th>\n",
       "      <th>I1</th>\n",
       "      <th>I2</th>\n",
       "      <th>J1</th>\n",
       "      <th>J2</th>\n",
       "      <th>K1</th>\n",
       "      <th>L</th>\n",
       "    </tr>\n",
       "    <tr>\n",
       "      <th>patient_id</th>\n",
       "      <th></th>\n",
       "      <th></th>\n",
       "      <th></th>\n",
       "      <th></th>\n",
       "      <th></th>\n",
       "      <th></th>\n",
       "      <th></th>\n",
       "      <th></th>\n",
       "      <th></th>\n",
       "      <th></th>\n",
       "      <th></th>\n",
       "      <th></th>\n",
       "      <th></th>\n",
       "      <th></th>\n",
       "      <th></th>\n",
       "      <th></th>\n",
       "      <th></th>\n",
       "      <th></th>\n",
       "      <th></th>\n",
       "      <th></th>\n",
       "      <th></th>\n",
       "    </tr>\n",
       "  </thead>\n",
       "  <tbody>\n",
       "    <tr>\n",
       "      <th>HN120</th>\n",
       "      <td>0.010989</td>\n",
       "      <td>0.005495</td>\n",
       "      <td>0.000000</td>\n",
       "      <td>0.000000</td>\n",
       "      <td>0.000000</td>\n",
       "      <td>0.000000</td>\n",
       "      <td>0.313187</td>\n",
       "      <td>0.175824</td>\n",
       "      <td>0.000000</td>\n",
       "      <td>0.000000</td>\n",
       "      <td>...</td>\n",
       "      <td>0.000000</td>\n",
       "      <td>0.340659</td>\n",
       "      <td>0.120879</td>\n",
       "      <td>0.000000</td>\n",
       "      <td>0.000000</td>\n",
       "      <td>0.000000</td>\n",
       "      <td>0.0</td>\n",
       "      <td>0.0</td>\n",
       "      <td>0.00000</td>\n",
       "      <td>0.032967</td>\n",
       "    </tr>\n",
       "    <tr>\n",
       "      <th>HN137</th>\n",
       "      <td>0.000000</td>\n",
       "      <td>0.000000</td>\n",
       "      <td>0.000000</td>\n",
       "      <td>0.000000</td>\n",
       "      <td>0.000000</td>\n",
       "      <td>0.000000</td>\n",
       "      <td>0.005682</td>\n",
       "      <td>0.000000</td>\n",
       "      <td>0.340909</td>\n",
       "      <td>0.085227</td>\n",
       "      <td>...</td>\n",
       "      <td>0.096591</td>\n",
       "      <td>0.000000</td>\n",
       "      <td>0.000000</td>\n",
       "      <td>0.000000</td>\n",
       "      <td>0.000000</td>\n",
       "      <td>0.000000</td>\n",
       "      <td>0.0</td>\n",
       "      <td>0.0</td>\n",
       "      <td>0.00000</td>\n",
       "      <td>0.011364</td>\n",
       "    </tr>\n",
       "    <tr>\n",
       "      <th>HN148</th>\n",
       "      <td>0.000000</td>\n",
       "      <td>0.000000</td>\n",
       "      <td>0.000000</td>\n",
       "      <td>0.000000</td>\n",
       "      <td>0.313514</td>\n",
       "      <td>0.205405</td>\n",
       "      <td>0.000000</td>\n",
       "      <td>0.000000</td>\n",
       "      <td>0.000000</td>\n",
       "      <td>0.000000</td>\n",
       "      <td>...</td>\n",
       "      <td>0.000000</td>\n",
       "      <td>0.000000</td>\n",
       "      <td>0.000000</td>\n",
       "      <td>0.459459</td>\n",
       "      <td>0.000000</td>\n",
       "      <td>0.000000</td>\n",
       "      <td>0.0</td>\n",
       "      <td>0.0</td>\n",
       "      <td>0.00000</td>\n",
       "      <td>0.021622</td>\n",
       "    </tr>\n",
       "    <tr>\n",
       "      <th>HN159</th>\n",
       "      <td>0.000000</td>\n",
       "      <td>0.000000</td>\n",
       "      <td>0.000000</td>\n",
       "      <td>0.000000</td>\n",
       "      <td>0.000000</td>\n",
       "      <td>0.000000</td>\n",
       "      <td>0.000000</td>\n",
       "      <td>0.000000</td>\n",
       "      <td>0.000000</td>\n",
       "      <td>0.000000</td>\n",
       "      <td>...</td>\n",
       "      <td>0.000000</td>\n",
       "      <td>0.000000</td>\n",
       "      <td>0.000000</td>\n",
       "      <td>0.000000</td>\n",
       "      <td>0.317365</td>\n",
       "      <td>0.185629</td>\n",
       "      <td>0.0</td>\n",
       "      <td>0.0</td>\n",
       "      <td>0.48503</td>\n",
       "      <td>0.011976</td>\n",
       "    </tr>\n",
       "    <tr>\n",
       "      <th>HN160</th>\n",
       "      <td>0.000000</td>\n",
       "      <td>0.000000</td>\n",
       "      <td>0.422222</td>\n",
       "      <td>0.414815</td>\n",
       "      <td>0.000000</td>\n",
       "      <td>0.000000</td>\n",
       "      <td>0.000000</td>\n",
       "      <td>0.000000</td>\n",
       "      <td>0.000000</td>\n",
       "      <td>0.000000</td>\n",
       "      <td>...</td>\n",
       "      <td>0.000000</td>\n",
       "      <td>0.000000</td>\n",
       "      <td>0.000000</td>\n",
       "      <td>0.000000</td>\n",
       "      <td>0.000000</td>\n",
       "      <td>0.000000</td>\n",
       "      <td>0.0</td>\n",
       "      <td>0.0</td>\n",
       "      <td>0.00000</td>\n",
       "      <td>0.162963</td>\n",
       "    </tr>\n",
       "  </tbody>\n",
       "</table>\n",
       "<p>5 rows × 23 columns</p>\n",
       "</div>"
      ],
      "text/plain": [
       "cluster           A1        A2        B1        B2        C1        C2  \\\n",
       "patient_id                                                               \n",
       "HN120       0.010989  0.005495  0.000000  0.000000  0.000000  0.000000   \n",
       "HN137       0.000000  0.000000  0.000000  0.000000  0.000000  0.000000   \n",
       "HN148       0.000000  0.000000  0.000000  0.000000  0.313514  0.205405   \n",
       "HN159       0.000000  0.000000  0.000000  0.000000  0.000000  0.000000   \n",
       "HN160       0.000000  0.000000  0.422222  0.414815  0.000000  0.000000   \n",
       "\n",
       "cluster           D1        D2        E1        E2  ...        F3        G1  \\\n",
       "patient_id                                          ...                       \n",
       "HN120       0.313187  0.175824  0.000000  0.000000  ...  0.000000  0.340659   \n",
       "HN137       0.005682  0.000000  0.340909  0.085227  ...  0.096591  0.000000   \n",
       "HN148       0.000000  0.000000  0.000000  0.000000  ...  0.000000  0.000000   \n",
       "HN159       0.000000  0.000000  0.000000  0.000000  ...  0.000000  0.000000   \n",
       "HN160       0.000000  0.000000  0.000000  0.000000  ...  0.000000  0.000000   \n",
       "\n",
       "cluster           G2        H1        I1        I2   J1   J2       K1  \\\n",
       "patient_id                                                              \n",
       "HN120       0.120879  0.000000  0.000000  0.000000  0.0  0.0  0.00000   \n",
       "HN137       0.000000  0.000000  0.000000  0.000000  0.0  0.0  0.00000   \n",
       "HN148       0.000000  0.459459  0.000000  0.000000  0.0  0.0  0.00000   \n",
       "HN159       0.000000  0.000000  0.317365  0.185629  0.0  0.0  0.48503   \n",
       "HN160       0.000000  0.000000  0.000000  0.000000  0.0  0.0  0.00000   \n",
       "\n",
       "cluster            L  \n",
       "patient_id            \n",
       "HN120       0.032967  \n",
       "HN137       0.011364  \n",
       "HN148       0.021622  \n",
       "HN159       0.011976  \n",
       "HN160       0.162963  \n",
       "\n",
       "[5 rows x 23 columns]"
      ]
     },
     "execution_count": 18,
     "metadata": {},
     "output_type": "execute_result"
    }
   ],
   "source": [
    "freq_df = pd.read_excel('../preprocessed_data/HN_patient_specific/percent_patient_tpm_cluster.xlsx', index_col=[0, 1]).reset_index()\n",
    "freq_df = freq_df.pivot(index='patient_id', columns='cluster', values='percent').fillna(0) / 100\n",
    "\n",
    "patient_list = freq_df.index\n",
    "\n",
    "freq_df.head()"
   ]
  },
  {
   "cell_type": "markdown",
   "metadata": {},
   "source": [
    "##### List all pairs of patient and drug"
   ]
  },
  {
   "cell_type": "code",
   "execution_count": 19,
   "metadata": {
    "ExecuteTime": {
     "end_time": "2020-11-17T13:25:27.310107Z",
     "start_time": "2020-11-17T13:25:27.273168Z"
    },
    "code_folding": []
   },
   "outputs": [],
   "source": [
    "pred_delta_df = pd.DataFrame(cadrres_cluster_df.values - drug_info_df[ref_type].values, columns=drug_list, index=cluster_list)\n",
    "pred_cv_df = 100 / (1 + (np.power(2, -pred_delta_df)))\n",
    "pred_kill_df = 100 - pred_cv_df\n",
    "\n",
    "rows = []\n",
    "for p in patient_list:\n",
    "    c_list = freq_df.loc[p][freq_df.loc[p] >= freq_cutoff].index.values\n",
    "    freqs = freq_df.loc[p][freq_df.loc[p] >= freq_cutoff].values\n",
    "\n",
    "    ##### freq sum to 1 (not in use) #####\n",
    "    # freqs = freqs / np.sum(freqs)\n",
    "\n",
    "    p_pred_delta_weighted = np.matmul(pred_delta_df.loc[c_list].values.T, freqs)\n",
    "    p_pred_delta_mat = pred_delta_df.loc[c_list].values\n",
    "    \n",
    "    p_pred_kill_weighted = np.matmul(pred_kill_df.loc[c_list].values.T, freqs)\n",
    "    p_pred_kill_mat = pred_kill_df.loc[c_list].values\n",
    "\n",
    "    for d_i, d_id in enumerate(drug_list):\n",
    "        rows += [[p, d_id] + ['|'.join(c_list)] + ['|'.join([\"{:.14}\".format(f) for f in freqs])] + \n",
    "                 ['|'.join([\"{:.14}\".format(f) for f in p_pred_delta_mat[:, d_i]])] + \n",
    "                 [\"{:.14}\".format(p_pred_delta_weighted[d_i])] +\n",
    "                 ['|'.join([\"{:.14}\".format(f) for f in p_pred_kill_mat[:, d_i]])] + \n",
    "                 [\"{:.14}\".format(p_pred_kill_weighted[d_i])]\n",
    "                ]"
   ]
  },
  {
   "cell_type": "code",
   "execution_count": 20,
   "metadata": {
    "ExecuteTime": {
     "end_time": "2020-11-17T13:25:27.327414Z",
     "start_time": "2020-11-17T13:25:27.313548Z"
    }
   },
   "outputs": [
    {
     "data": {
      "text/html": [
       "<div>\n",
       "<style scoped>\n",
       "    .dataframe tbody tr th:only-of-type {\n",
       "        vertical-align: middle;\n",
       "    }\n",
       "\n",
       "    .dataframe tbody tr th {\n",
       "        vertical-align: top;\n",
       "    }\n",
       "\n",
       "    .dataframe thead th {\n",
       "        text-align: right;\n",
       "    }\n",
       "</style>\n",
       "<table border=\"1\" class=\"dataframe\">\n",
       "  <thead>\n",
       "    <tr style=\"text-align: right;\">\n",
       "      <th></th>\n",
       "      <th>patient</th>\n",
       "      <th>drug_id</th>\n",
       "      <th>cluster</th>\n",
       "      <th>cluster_p</th>\n",
       "      <th>cluster_delta</th>\n",
       "      <th>delta</th>\n",
       "      <th>cluster_kill</th>\n",
       "      <th>kill</th>\n",
       "    </tr>\n",
       "  </thead>\n",
       "  <tbody>\n",
       "    <tr>\n",
       "      <th>0</th>\n",
       "      <td>HN120</td>\n",
       "      <td>1007</td>\n",
       "      <td>D1|D2|G1|G2</td>\n",
       "      <td>0.31318681318681|0.17582417582418|0.3406593406...</td>\n",
       "      <td>0.056986626834624|-0.5521462503121|0.532688663...</td>\n",
       "      <td>0.18719816837933</td>\n",
       "      <td>49.012625383709|59.452863251762|40.87266962319...</td>\n",
       "      <td>44.327072791571</td>\n",
       "    </tr>\n",
       "    <tr>\n",
       "      <th>1</th>\n",
       "      <td>HN120</td>\n",
       "      <td>133</td>\n",
       "      <td>D1|D2|G1|G2</td>\n",
       "      <td>0.31318681318681|0.17582417582418|0.3406593406...</td>\n",
       "      <td>-2.8334341716821|-2.6720860912117|-3.778959838...</td>\n",
       "      <td>-3.0281039557461</td>\n",
       "      <td>87.69637799287|86.437921582584|93.209818273866...</td>\n",
       "      <td>85.2974894621</td>\n",
       "    </tr>\n",
       "    <tr>\n",
       "      <th>2</th>\n",
       "      <td>HN120</td>\n",
       "      <td>201</td>\n",
       "      <td>D1|D2|G1|G2</td>\n",
       "      <td>0.31318681318681|0.17582417582418|0.3406593406...</td>\n",
       "      <td>-4.0213711434516|-3.6385077224033|-3.038971912...</td>\n",
       "      <td>-3.3197975989113</td>\n",
       "      <td>94.199124702299|92.56712528151|89.152897129961...</td>\n",
       "      <td>87.040929163578</td>\n",
       "    </tr>\n",
       "    <tr>\n",
       "      <th>3</th>\n",
       "      <td>HN120</td>\n",
       "      <td>1010</td>\n",
       "      <td>D1|D2|G1|G2</td>\n",
       "      <td>0.31318681318681|0.17582417582418|0.3406593406...</td>\n",
       "      <td>1.8712695534725|1.0992860185533|3.087297545393...</td>\n",
       "      <td>2.1769243350696</td>\n",
       "      <td>21.465935078167|31.821936069363|10.52739493194...</td>\n",
       "      <td>17.366424347237</td>\n",
       "    </tr>\n",
       "    <tr>\n",
       "      <th>4</th>\n",
       "      <td>HN120</td>\n",
       "      <td>182</td>\n",
       "      <td>D1|D2|G1|G2</td>\n",
       "      <td>0.31318681318681|0.17582417582418|0.3406593406...</td>\n",
       "      <td>-1.690692592809|-1.3450796341807|-0.8269725475...</td>\n",
       "      <td>-1.173358676562</td>\n",
       "      <td>76.348806194752|71.754940580896|63.95043861070...</td>\n",
       "      <td>66.444651184358</td>\n",
       "    </tr>\n",
       "  </tbody>\n",
       "</table>\n",
       "</div>"
      ],
      "text/plain": [
       "  patient drug_id      cluster  \\\n",
       "0   HN120    1007  D1|D2|G1|G2   \n",
       "1   HN120     133  D1|D2|G1|G2   \n",
       "2   HN120     201  D1|D2|G1|G2   \n",
       "3   HN120    1010  D1|D2|G1|G2   \n",
       "4   HN120     182  D1|D2|G1|G2   \n",
       "\n",
       "                                           cluster_p  \\\n",
       "0  0.31318681318681|0.17582417582418|0.3406593406...   \n",
       "1  0.31318681318681|0.17582417582418|0.3406593406...   \n",
       "2  0.31318681318681|0.17582417582418|0.3406593406...   \n",
       "3  0.31318681318681|0.17582417582418|0.3406593406...   \n",
       "4  0.31318681318681|0.17582417582418|0.3406593406...   \n",
       "\n",
       "                                       cluster_delta             delta  \\\n",
       "0  0.056986626834624|-0.5521462503121|0.532688663...  0.18719816837933   \n",
       "1  -2.8334341716821|-2.6720860912117|-3.778959838...  -3.0281039557461   \n",
       "2  -4.0213711434516|-3.6385077224033|-3.038971912...  -3.3197975989113   \n",
       "3  1.8712695534725|1.0992860185533|3.087297545393...   2.1769243350696   \n",
       "4  -1.690692592809|-1.3450796341807|-0.8269725475...   -1.173358676562   \n",
       "\n",
       "                                        cluster_kill             kill  \n",
       "0  49.012625383709|59.452863251762|40.87266962319...  44.327072791571  \n",
       "1  87.69637799287|86.437921582584|93.209818273866...    85.2974894621  \n",
       "2  94.199124702299|92.56712528151|89.152897129961...  87.040929163578  \n",
       "3  21.465935078167|31.821936069363|10.52739493194...  17.366424347237  \n",
       "4  76.348806194752|71.754940580896|63.95043861070...  66.444651184358  "
      ]
     },
     "execution_count": 20,
     "metadata": {},
     "output_type": "execute_result"
    }
   ],
   "source": [
    "single_drug_pred_df = pd.DataFrame(rows, columns=['patient', 'drug_id', 'cluster', 'cluster_p', 'cluster_delta', 'delta', 'cluster_kill', 'kill'])\n",
    "single_drug_pred_df = single_drug_pred_df[['patient', 'drug_id', 'cluster', 'cluster_p', 'cluster_delta', 'delta', 'cluster_kill', 'kill']]\n",
    "single_drug_pred_df.head()"
   ]
  },
  {
   "cell_type": "code",
   "execution_count": 21,
   "metadata": {
    "ExecuteTime": {
     "end_time": "2020-11-17T13:25:27.338501Z",
     "start_time": "2020-11-17T13:25:27.329523Z"
    }
   },
   "outputs": [],
   "source": [
    "single_drug_pred_df.loc[:, 'drug_name'] = [drug_id_name_dict[d] for d in single_drug_pred_df['drug_id'].values]"
   ]
  },
  {
   "cell_type": "code",
   "execution_count": 22,
   "metadata": {
    "ExecuteTime": {
     "end_time": "2020-11-17T13:25:27.902159Z",
     "start_time": "2020-11-17T13:25:27.340075Z"
    }
   },
   "outputs": [
    {
     "data": {
      "text/plain": [
       "<matplotlib.axes._subplots.AxesSubplot at 0x7f3dfe27df90>"
      ]
     },
     "execution_count": 22,
     "metadata": {},
     "output_type": "execute_result"
    },
    {
     "data": {
      "image/png": "[encoded data removed]",
      "text/plain": [
       "<Figure size 1800x1200 with 2 Axes>"
      ]
     },
     "metadata": {
      "needs_background": "light"
     },
     "output_type": "display_data"
    }
   ],
   "source": [
    "single_drug_id_list = ['1007', '133', '201', '1010', '182', '301', '302', '1012']\n",
    "single_drug_list = ['Docetaxel', 'Doxorubicin', 'Epothilone B', 'Gefitinib', 'Obatoclax Mesylate', 'PHA-793887', 'PI-103', 'Vorinostat']\n",
    "\n",
    "temp_df = (freq_df.loc[freq_df.index != 'HN182'] >= freq_cutoff).sum()\n",
    "selected_clusters = temp_df.index[temp_df > 0]\n",
    "\n",
    "cmap = plt.cm.get_cmap('bone_r', 10)\n",
    "selected_kill_df = pred_kill_df.loc[selected_clusters, single_drug_id_list]\n",
    "selected_kill_df.columns = single_drug_list\n",
    "selected_kill_df = selected_kill_df[selected_kill_df.sum().sort_values(ascending=False).index]\n",
    "\n",
    "sns.heatmap(selected_kill_df.T, cmap=cmap, vmin=0, vmax=100, linewidth=0.5)"
   ]
  },
  {
   "cell_type": "code",
   "execution_count": 23,
   "metadata": {
    "ExecuteTime": {
     "end_time": "2020-11-17T13:25:27.920790Z",
     "start_time": "2020-11-17T13:25:27.903657Z"
    }
   },
   "outputs": [
    {
     "data": {
      "text/html": [
       "<div>\n",
       "<style scoped>\n",
       "    .dataframe tbody tr th:only-of-type {\n",
       "        vertical-align: middle;\n",
       "    }\n",
       "\n",
       "    .dataframe tbody tr th {\n",
       "        vertical-align: top;\n",
       "    }\n",
       "\n",
       "    .dataframe thead th {\n",
       "        text-align: right;\n",
       "    }\n",
       "</style>\n",
       "<table border=\"1\" class=\"dataframe\">\n",
       "  <thead>\n",
       "    <tr style=\"text-align: right;\">\n",
       "      <th></th>\n",
       "      <th>index</th>\n",
       "      <th>log2_median_ic50_hn</th>\n",
       "    </tr>\n",
       "  </thead>\n",
       "  <tbody>\n",
       "    <tr>\n",
       "      <th>Doxorubicin</th>\n",
       "      <td>133</td>\n",
       "      <td>-2.812230</td>\n",
       "    </tr>\n",
       "    <tr>\n",
       "      <th>Epothilone B</th>\n",
       "      <td>201</td>\n",
       "      <td>-8.520806</td>\n",
       "    </tr>\n",
       "    <tr>\n",
       "      <th>PI-103</th>\n",
       "      <td>302</td>\n",
       "      <td>3.056464</td>\n",
       "    </tr>\n",
       "    <tr>\n",
       "      <th>Vorinostat</th>\n",
       "      <td>1012</td>\n",
       "      <td>0.711127</td>\n",
       "    </tr>\n",
       "    <tr>\n",
       "      <th>PHA-793887</th>\n",
       "      <td>301</td>\n",
       "      <td>3.606539</td>\n",
       "    </tr>\n",
       "    <tr>\n",
       "      <th>Obatoclax Mesylate</th>\n",
       "      <td>182</td>\n",
       "      <td>-2.958665</td>\n",
       "    </tr>\n",
       "    <tr>\n",
       "      <th>Docetaxel</th>\n",
       "      <td>1007</td>\n",
       "      <td>-9.792998</td>\n",
       "    </tr>\n",
       "    <tr>\n",
       "      <th>Gefitinib</th>\n",
       "      <td>1010</td>\n",
       "      <td>-1.374969</td>\n",
       "    </tr>\n",
       "  </tbody>\n",
       "</table>\n",
       "</div>"
      ],
      "text/plain": [
       "                   index  log2_median_ic50_hn\n",
       "Doxorubicin          133            -2.812230\n",
       "Epothilone B         201            -8.520806\n",
       "PI-103               302             3.056464\n",
       "Vorinostat          1012             0.711127\n",
       "PHA-793887           301             3.606539\n",
       "Obatoclax Mesylate   182            -2.958665\n",
       "Docetaxel           1007            -9.792998\n",
       "Gefitinib           1010            -1.374969"
      ]
     },
     "execution_count": 23,
     "metadata": {},
     "output_type": "execute_result"
    }
   ],
   "source": [
    "log2_median_ic50_df = drug_info_df.loc[single_drug_id_list][['Drug Name', ref_type]].reset_index().set_index('Drug Name')\n",
    "log2_median_ic50_df.loc[selected_kill_df.sum().sort_values(ascending=False).index]"
   ]
  },
  {
   "cell_type": "code",
   "execution_count": 24,
   "metadata": {
    "ExecuteTime": {
     "end_time": "2020-11-17T13:25:27.932145Z",
     "start_time": "2020-11-17T13:25:27.923799Z"
    }
   },
   "outputs": [
    {
     "name": "stdout",
     "output_type": "stream",
     "text": [
      "log2_median_ic50_hn\n",
      "0.142375\n",
      "0.002723\n",
      "8.319312\n",
      "1.637083\n",
      "12.180817\n",
      "0.128633\n",
      "0.001127\n",
      "0.385561\n"
     ]
    }
   ],
   "source": [
    "print (ref_type)\n",
    "log2_median_ic50s = log2_median_ic50_df.loc[selected_kill_df.sum().sort_values(ascending=False).index][ref_type].values\n",
    "median_ic50s = np.power(2, log2_median_ic50s)\n",
    "\n",
    "for x in median_ic50s:\n",
    "    print ('{:f}'.format(x))\n"
   ]
  },
  {
   "cell_type": "code",
   "execution_count": 25,
   "metadata": {
    "ExecuteTime": {
     "end_time": "2020-11-17T13:25:27.941820Z",
     "start_time": "2020-11-17T13:25:27.934095Z"
    }
   },
   "outputs": [],
   "source": [
    "temp_df = freq_df.loc[freq_df.index != 'HN182'].stack().reset_index()\n",
    "temp_df = temp_df[temp_df[0] >= freq_cutoff]\n",
    "patient_cluster_dict = dict(zip(temp_df['cluster'], temp_df['patient_id']))"
   ]
  },
  {
   "cell_type": "code",
   "execution_count": 26,
   "metadata": {
    "ExecuteTime": {
     "end_time": "2020-11-17T13:25:27.951086Z",
     "start_time": "2020-11-17T13:25:27.944046Z"
    }
   },
   "outputs": [],
   "source": [
    "patient_list = sorted(list(set(temp_df['patient_id'])))\n",
    "cluster_list = temp_df['cluster'].values\n",
    "\n",
    "cmap = plt.cm.get_cmap('tab10', 10)\n",
    "patient_color_dict = dict(zip(patient_list, [cmap(c) for c in range(len(patient_list))]))"
   ]
  },
  {
   "cell_type": "code",
   "execution_count": 27,
   "metadata": {
    "ExecuteTime": {
     "end_time": "2020-11-17T13:25:27.959668Z",
     "start_time": "2020-11-17T13:25:27.952789Z"
    }
   },
   "outputs": [
    {
     "data": {
      "text/plain": [
       "['HN120', 'HN137', 'HN148', 'HN159', 'HN160']"
      ]
     },
     "execution_count": 27,
     "metadata": {},
     "output_type": "execute_result"
    }
   ],
   "source": [
    "patient_list"
   ]
  },
  {
   "cell_type": "code",
   "execution_count": 28,
   "metadata": {
    "ExecuteTime": {
     "end_time": "2020-11-17T13:25:27.965627Z",
     "start_time": "2020-11-17T13:25:27.962298Z"
    }
   },
   "outputs": [],
   "source": [
    "col_colors = [patient_color_dict[patient_cluster_dict[c]] for c in cluster_list]"
   ]
  },
  {
   "cell_type": "code",
   "execution_count": null,
   "metadata": {
    "ExecuteTime": {
     "start_time": "2020-11-17T13:25:26.873Z"
    }
   },
   "outputs": [],
   "source": [
    "cmap = plt.cm.get_cmap('bone_r', 11)\n",
    "cg = sns.clustermap(selected_kill_df.T[cluster_list], cmap=cmap, vmin=-10, vmax=100, linewidth=0.5, row_cluster=False, col_cluster=False, col_colors=col_colors, figsize=(8,5.5))\n",
    "\n",
    "_ = cg.ax_heatmap.set_xlabel('Cluster ID')\n",
    "plt.tight_layout()\n",
    "# _ = cg.cax.set_visible(False)\n",
    "\n",
    "cg.savefig('../figure/Fig4A_heatmap_cluster_pred.svg')"
   ]
  },
  {
   "cell_type": "markdown",
   "metadata": {},
   "source": [
    "Save results"
   ]
  },
  {
   "cell_type": "code",
   "execution_count": null,
   "metadata": {
    "ExecuteTime": {
     "start_time": "2020-11-17T13:25:26.874Z"
    }
   },
   "outputs": [],
   "source": [
    "if dosage_shifted:\n",
    "    single_drug_pred_df.to_csv(out_dir + 'pred_drug_kill_{}_{}_shifted.csv'.format(ref_type, model_name), index=False)\n",
    "else:\n",
    "    single_drug_pred_df.to_csv(out_dir + 'pred_drug_kill_{}_{}.csv'.format(ref_type, model_name), index=False)"
   ]
  },
  {
   "cell_type": "code",
   "execution_count": null,
   "metadata": {},
   "outputs": [],
   "source": []
  }
 ],
 "metadata": {
  "kernelspec": {
   "display_name": "Python 3",
   "language": "python",
   "name": "python3"
  },
  "language_info": {
   "codemirror_mode": {
    "name": "ipython",
    "version": 3
   },
   "file_extension": ".py",
   "mimetype": "text/x-python",
   "name": "python",
   "nbconvert_exporter": "python",
   "pygments_lexer": "ipython3",
   "version": "3.7.7"
  },
  "toc": {
   "base_numbering": 1,
   "nav_menu": {},
   "number_sections": false,
   "sideBar": true,
   "skip_h1_title": false,
   "title_cell": "Table of Contents",
   "title_sidebar": "Contents",
   "toc_cell": false,
   "toc_position": {
    "height": "calc(100% - 180px)",
    "left": "10px",
    "top": "150px",
    "width": "175.531px"
   },
   "toc_section_display": true,
   "toc_window_display": false
  }
 },
 "nbformat": 4,
 "nbformat_minor": 2
}
